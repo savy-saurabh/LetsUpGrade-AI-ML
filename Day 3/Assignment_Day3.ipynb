{
  "nbformat": 4,
  "nbformat_minor": 0,
  "metadata": {
    "colab": {
      "name": "Assignment_Day3.ipynb",
      "provenance": [],
      "collapsed_sections": []
    },
    "kernelspec": {
      "name": "python3",
      "display_name": "Python 3"
    }
  },
  "cells": [
    {
      "cell_type": "markdown",
      "metadata": {
        "id": "MNTbdI0EZ4_3",
        "colab_type": "text"
      },
      "source": [
        "**1. Write a program to subtract two complex numbers in Python.**\n",
        "\n"
      ]
    },
    {
      "cell_type": "code",
      "metadata": {
        "id": "Iv2aRhpuaGUh",
        "colab_type": "code",
        "colab": {
          "base_uri": "https://localhost:8080/",
          "height": 35
        },
        "outputId": "09760c03-6732-402d-8110-3a97fb615738"
      },
      "source": [
        "#Take two complex numbers\n",
        "x = 8 + 7j\n",
        "y = 5 + 9j\n",
        "print(\"Subtraction of complex numbers\", x, \"and\", y, \"is\" , x - y)"
      ],
      "execution_count": 4,
      "outputs": [
        {
          "output_type": "stream",
          "text": [
            "Subtraction of complex numbers (8+7j) and (5+9j) is (3-2j)\n"
          ],
          "name": "stdout"
        }
      ]
    },
    {
      "cell_type": "markdown",
      "metadata": {
        "id": "qU8WnnI2bMzB",
        "colab_type": "text"
      },
      "source": [
        "**2. Write a program to find the fourth root of a number.**"
      ]
    },
    {
      "cell_type": "code",
      "metadata": {
        "id": "yzU5e6FWbVH6",
        "colab_type": "code",
        "colab": {
          "base_uri": "https://localhost:8080/",
          "height": 35
        },
        "outputId": "5730e209-fe2d-4e04-d705-c4be9b93ca70"
      },
      "source": [
        "#Take any number which can be the 4th root of a perfect number\n",
        "x = 625\n",
        "fourth_root = x**(1/4)\n",
        "print(\"The fourth root of the\", x, \"is\", fourth_root)"
      ],
      "execution_count": 9,
      "outputs": [
        {
          "output_type": "stream",
          "text": [
            "The fourth root of the 625 is 5.0\n"
          ],
          "name": "stdout"
        }
      ]
    },
    {
      "cell_type": "markdown",
      "metadata": {
        "id": "USyZ-mBmrRyc",
        "colab_type": "text"
      },
      "source": [
        "**3.Write a program to swap two numbers in Python with the help of a temporary variable.**\n"
      ]
    },
    {
      "cell_type": "code",
      "metadata": {
        "id": "lfVM_GZprd3S",
        "colab_type": "code",
        "colab": {
          "base_uri": "https://localhost:8080/",
          "height": 53
        },
        "outputId": "25110ee4-75f8-458b-fd2d-c21346f8a5fc"
      },
      "source": [
        "#Take two numbers\n",
        "x = 10\n",
        "y = 25\n",
        "c = 0 #Temporary variable\n",
        "print(\"Before swapping the numbers:\", \"x =\",x, \"y =\", y)\n",
        "c = x\n",
        "x = y\n",
        "y = c\n",
        "print(\"After swapping the numbers:\", \"x =\",x,\"y =\", y)"
      ],
      "execution_count": 14,
      "outputs": [
        {
          "output_type": "stream",
          "text": [
            "Before swapping the numbers: x = 10 y = 25\n",
            "After swapping the numbers: x = 25 y = 10\n"
          ],
          "name": "stdout"
        }
      ]
    },
    {
      "cell_type": "markdown",
      "metadata": {
        "id": "cX2FqzT0vRM0",
        "colab_type": "text"
      },
      "source": [
        "**4.Write a program to swap two numbers in Python without using a temporary variable.**"
      ]
    },
    {
      "cell_type": "code",
      "metadata": {
        "id": "VszDK7D9vsA6",
        "colab_type": "code",
        "colab": {
          "base_uri": "https://localhost:8080/",
          "height": 53
        },
        "outputId": "f66d379b-99fb-4f70-e49e-c16f176078d6"
      },
      "source": [
        "#Take two numbers\n",
        "x = 50\n",
        "y = 30\n",
        "print(\"Before swapping the numbers:\", \"x =\",x, \"y =\", y)\n",
        "x = x + y\n",
        "y = x - y\n",
        "x = x - y\n",
        "print(\"After swapping the numbers:\", \"x =\",x,\"y =\", y)"
      ],
      "execution_count": 16,
      "outputs": [
        {
          "output_type": "stream",
          "text": [
            "Before swapping the numbers: x = 50 y = 30\n",
            "After swapping the numbers: x = 30 y = 50\n"
          ],
          "name": "stdout"
        }
      ]
    },
    {
      "cell_type": "markdown",
      "metadata": {
        "id": "nkEQ-l7iwJh5",
        "colab_type": "text"
      },
      "source": [
        "**5.Write a program to convert fahrenheit to kelvin and celsius both.**\n"
      ]
    },
    {
      "cell_type": "code",
      "metadata": {
        "id": "FEPdn8h9wRk_",
        "colab_type": "code",
        "colab": {
          "base_uri": "https://localhost:8080/",
          "height": 71
        },
        "outputId": "3f20acbf-ecfe-4597-a972-af1ff07da752"
      },
      "source": [
        "#Take any temperature value\n",
        "f = 98.5 #temperature in fahrenheit\n",
        "k = (f - 32) * 5/9 + 273.15 #temperature converted to kelvin\n",
        "c = (f - 32) * 5/9 #temperature converted to celsius\n",
        "print(\"Temperature in Fahrenheit:\", f)\n",
        "print(\"Temperature in Kelvin:\", k)\n",
        "print(\"Temperature in Celsius:\", c)"
      ],
      "execution_count": 18,
      "outputs": [
        {
          "output_type": "stream",
          "text": [
            "Temperature in Fahrenheit: 98.5\n",
            "Temperature in Kelvin: 310.09444444444443\n",
            "Temperature in Celsius: 36.94444444444444\n"
          ],
          "name": "stdout"
        }
      ]
    },
    {
      "cell_type": "markdown",
      "metadata": {
        "id": "ugDFyxbmzBG8",
        "colab_type": "text"
      },
      "source": [
        "**6.Write a program to demonstrate all the available data types in Python. Hint: Use type() function**"
      ]
    },
    {
      "cell_type": "code",
      "metadata": {
        "id": "yOPqcgd3zGbI",
        "colab_type": "code",
        "colab": {
          "base_uri": "https://localhost:8080/",
          "height": 124
        },
        "outputId": "1975b1a3-a28b-4a79-c218-983ce3db9fce"
      },
      "source": [
        "#Data Types\n",
        "x = 30\n",
        "print(\"x is of type:\", type(x))\n",
        "x1 = 23.89\n",
        "print(\"x1 is of type:\", type(x1))\n",
        "y = 6 + 4j\n",
        "print(\"y is of type:\", type(y))\n",
        "y1 = \"Saurabh\"\n",
        "print(\"y2 is of type:\", type(y1))\n",
        "z = [10, 20, 25, 35, 40]\n",
        "print(\"z is of type:\", type(z))\n",
        "z1 = (5, 8, 14, 20, 25)\n",
        "print(\"z1 is of type:\", type(z1))"
      ],
      "execution_count": 23,
      "outputs": [
        {
          "output_type": "stream",
          "text": [
            "x is of type: <class 'int'>\n",
            "x1 is of type: <class 'float'>\n",
            "y is of type: <class 'complex'>\n",
            "y2 is of type: <class 'str'>\n",
            "z is of type: <class 'list'>\n",
            "z1 is of type: <class 'tuple'>\n"
          ],
          "name": "stdout"
        }
      ]
    },
    {
      "cell_type": "markdown",
      "metadata": {
        "id": "h3ddQsOv2d7R",
        "colab_type": "text"
      },
      "source": [
        "**7.Create a Markdown cell in jupyter and list the steps discussed in the session by Dr. Darshan Ingle sir to create Github profile and upload Githubs Assignment link.**"
      ]
    },
    {
      "cell_type": "markdown",
      "metadata": {
        "id": "julXP4Ym3aOl",
        "colab_type": "text"
      },
      "source": [
        "\n",
        "\n",
        "1.  After creating a GitHub profile, create a repository named as **\"LetsUpGrade AI-ML\"**. Add a description to what you are pushing into repository, here it is *assignments* and it is optional.\n",
        "\n",
        "2.   Make sure that you maintain a *public* repositiory were everyone can see the code.\n",
        "3.   Once the repository is created, click on *upload an existing file* and drag the files which are there in the local path to your repository. \n",
        "4.   Thereafter, click on *commit changes* when you have added all the required files or folders.\n",
        "5.   When everything is completed you need to fill a Google Form provided by the LetsUpGrade Team for assignment submission.\n",
        "6.   Finally you need to copy the GitHub URL of the repository created and paste into the Google Form and see that you have received a mail from the team which will show the responses you have filled in the form.\n",
        "\n",
        "\n",
        "\n",
        "\n",
        "\n",
        "\n"
      ]
    }
  ]
}