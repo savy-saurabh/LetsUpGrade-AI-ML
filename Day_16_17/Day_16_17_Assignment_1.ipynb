{
  "nbformat": 4,
  "nbformat_minor": 0,
  "metadata": {
    "kernelspec": {
      "display_name": "Python 3",
      "language": "python",
      "name": "python3"
    },
    "language_info": {
      "codemirror_mode": {
        "name": "ipython",
        "version": 3
      },
      "file_extension": ".py",
      "mimetype": "text/x-python",
      "name": "python",
      "nbconvert_exporter": "python",
      "pygments_lexer": "ipython3",
      "version": "3.7.4"
    },
    "colab": {
      "name": "Day_16_17_Assignment 1.ipynb",
      "provenance": [],
      "collapsed_sections": []
    }
  },
  "cells": [
    {
      "cell_type": "code",
      "metadata": {
        "id": "sY5TzTF39KFa",
        "colab_type": "code",
        "colab": {}
      },
      "source": [
        "#importing necessary packages for accessing the files from google drive\n",
        "import os\n",
        "from pydrive.auth import GoogleAuth\n",
        "from pydrive.drive import GoogleDrive\n",
        "from google.colab import auth\n",
        "from oauth2client.client import GoogleCredentials"
      ],
      "execution_count": 125,
      "outputs": []
    },
    {
      "cell_type": "code",
      "metadata": {
        "id": "cxZd2wfj-rIg",
        "colab_type": "code",
        "colab": {}
      },
      "source": [
        "auth.authenticate_user()\n",
        "gauth = GoogleAuth()\n",
        "gauth.credentials = GoogleCredentials.get_application_default()\n",
        "drive = GoogleDrive(gauth)"
      ],
      "execution_count": 126,
      "outputs": []
    },
    {
      "cell_type": "code",
      "metadata": {
        "id": "G44Cd02b_JpP",
        "colab_type": "code",
        "colab": {}
      },
      "source": [
        "#Accessing the files from drive using File ID\n",
        "downloaded = drive.CreateFile({'id':'1ksi366OOgzLWB_P_0_fioCjGW8ml5HoP'}) # replace the id with id of file you want to access\n",
        "downloaded.GetContentFile('titles.csv')"
      ],
      "execution_count": 127,
      "outputs": []
    },
    {
      "cell_type": "code",
      "metadata": {
        "id": "tol0bcxzx8nN",
        "colab_type": "code",
        "colab": {}
      },
      "source": [
        "downloaded1 = drive.CreateFile({'id':'1b_aczX4naWHkCihcGSDPEUE1J1Sm7qtb'}) # replace the id with id of file you want to access\n",
        "downloaded1.GetContentFile('cast.csv')"
      ],
      "execution_count": 128,
      "outputs": []
    },
    {
      "cell_type": "code",
      "metadata": {
        "id": "bxnzDfy_uyjE",
        "colab_type": "code",
        "colab": {}
      },
      "source": [
        "downloaded2 = drive.CreateFile({'id':'12S4kn6XHdKYo5cNhCIkR0W9qfwKT606P'}) # replace the id with id of file you want to access\n",
        "downloaded2.GetContentFile('release_dates.csv')"
      ],
      "execution_count": 130,
      "outputs": []
    },
    {
      "cell_type": "code",
      "metadata": {
        "id": "yvR7EanwAQUq",
        "colab_type": "code",
        "colab": {}
      },
      "source": [
        "%matplotlib inline \n",
        "#Displays the output within the Notebook\n",
        "#If only %matplotlib is used then the output is displayed in separate window\n",
        "import pandas as pd"
      ],
      "execution_count": null,
      "outputs": []
    },
    {
      "cell_type": "code",
      "metadata": {
        "id": "cbvI2tiPAQUz",
        "colab_type": "code",
        "colab": {}
      },
      "source": [
        "#from IPython.core.display import HTML\n",
        "#css = open('style-table.css').read() + open('style-notebook.css').read()\n",
        "#HTML('<style>{}</style>'.format(css))"
      ],
      "execution_count": null,
      "outputs": []
    },
    {
      "cell_type": "code",
      "metadata": {
        "id": "Nb_nG38oAQU5",
        "colab_type": "code",
        "colab": {
          "base_uri": "https://localhost:8080/",
          "height": 202
        },
        "outputId": "bb0ee7d2-37b6-401a-e8f8-8ba86f512d4c"
      },
      "source": [
        "titles = pd.read_csv('titles.csv')\n",
        "titles.head()"
      ],
      "execution_count": null,
      "outputs": [
        {
          "output_type": "execute_result",
          "data": {
            "text/html": [
              "<div>\n",
              "<style scoped>\n",
              "    .dataframe tbody tr th:only-of-type {\n",
              "        vertical-align: middle;\n",
              "    }\n",
              "\n",
              "    .dataframe tbody tr th {\n",
              "        vertical-align: top;\n",
              "    }\n",
              "\n",
              "    .dataframe thead th {\n",
              "        text-align: right;\n",
              "    }\n",
              "</style>\n",
              "<table border=\"1\" class=\"dataframe\">\n",
              "  <thead>\n",
              "    <tr style=\"text-align: right;\">\n",
              "      <th></th>\n",
              "      <th>title</th>\n",
              "      <th>year</th>\n",
              "    </tr>\n",
              "  </thead>\n",
              "  <tbody>\n",
              "    <tr>\n",
              "      <th>0</th>\n",
              "      <td>Tasveer Mere Sanam</td>\n",
              "      <td>1996</td>\n",
              "    </tr>\n",
              "    <tr>\n",
              "      <th>1</th>\n",
              "      <td>Only You</td>\n",
              "      <td>1994</td>\n",
              "    </tr>\n",
              "    <tr>\n",
              "      <th>2</th>\n",
              "      <td>El pueblo del terror</td>\n",
              "      <td>1970</td>\n",
              "    </tr>\n",
              "    <tr>\n",
              "      <th>3</th>\n",
              "      <td>Machine</td>\n",
              "      <td>2007</td>\n",
              "    </tr>\n",
              "    <tr>\n",
              "      <th>4</th>\n",
              "      <td>MARy</td>\n",
              "      <td>2008</td>\n",
              "    </tr>\n",
              "  </tbody>\n",
              "</table>\n",
              "</div>"
            ],
            "text/plain": [
              "                  title  year\n",
              "0    Tasveer Mere Sanam  1996\n",
              "1              Only You  1994\n",
              "2  El pueblo del terror  1970\n",
              "3               Machine  2007\n",
              "4                  MARy  2008"
            ]
          },
          "metadata": {
            "tags": []
          },
          "execution_count": 10
        }
      ]
    },
    {
      "cell_type": "code",
      "metadata": {
        "id": "okMfSAv6ynfe",
        "colab_type": "code",
        "colab": {
          "base_uri": "https://localhost:8080/",
          "height": 202
        },
        "outputId": "daf6d39b-99f3-4f5c-d058-cdb2b9cb276f"
      },
      "source": [
        "cast = pd.read_csv('cast.csv')\n",
        "cast.head()"
      ],
      "execution_count": null,
      "outputs": [
        {
          "output_type": "execute_result",
          "data": {
            "text/html": [
              "<div>\n",
              "<style scoped>\n",
              "    .dataframe tbody tr th:only-of-type {\n",
              "        vertical-align: middle;\n",
              "    }\n",
              "\n",
              "    .dataframe tbody tr th {\n",
              "        vertical-align: top;\n",
              "    }\n",
              "\n",
              "    .dataframe thead th {\n",
              "        text-align: right;\n",
              "    }\n",
              "</style>\n",
              "<table border=\"1\" class=\"dataframe\">\n",
              "  <thead>\n",
              "    <tr style=\"text-align: right;\">\n",
              "      <th></th>\n",
              "      <th>title</th>\n",
              "      <th>year</th>\n",
              "      <th>name</th>\n",
              "      <th>type</th>\n",
              "      <th>character</th>\n",
              "      <th>n</th>\n",
              "    </tr>\n",
              "  </thead>\n",
              "  <tbody>\n",
              "    <tr>\n",
              "      <th>0</th>\n",
              "      <td>Closet Monster</td>\n",
              "      <td>2015</td>\n",
              "      <td>Buffy #1</td>\n",
              "      <td>actor</td>\n",
              "      <td>Buffy 4</td>\n",
              "      <td>31.0</td>\n",
              "    </tr>\n",
              "    <tr>\n",
              "      <th>1</th>\n",
              "      <td>Suuri illusioni</td>\n",
              "      <td>1985</td>\n",
              "      <td>Homo $</td>\n",
              "      <td>actor</td>\n",
              "      <td>Guests</td>\n",
              "      <td>22.0</td>\n",
              "    </tr>\n",
              "    <tr>\n",
              "      <th>2</th>\n",
              "      <td>Battle of the Sexes</td>\n",
              "      <td>2017</td>\n",
              "      <td>$hutter</td>\n",
              "      <td>actor</td>\n",
              "      <td>Bobby Riggs Fan</td>\n",
              "      <td>10.0</td>\n",
              "    </tr>\n",
              "    <tr>\n",
              "      <th>3</th>\n",
              "      <td>Secret in Their Eyes</td>\n",
              "      <td>2015</td>\n",
              "      <td>$hutter</td>\n",
              "      <td>actor</td>\n",
              "      <td>2002 Dodger Fan</td>\n",
              "      <td>NaN</td>\n",
              "    </tr>\n",
              "    <tr>\n",
              "      <th>4</th>\n",
              "      <td>Steve Jobs</td>\n",
              "      <td>2015</td>\n",
              "      <td>$hutter</td>\n",
              "      <td>actor</td>\n",
              "      <td>1988 Opera House Patron</td>\n",
              "      <td>NaN</td>\n",
              "    </tr>\n",
              "  </tbody>\n",
              "</table>\n",
              "</div>"
            ],
            "text/plain": [
              "                  title  year      name   type                character     n\n",
              "0        Closet Monster  2015  Buffy #1  actor                  Buffy 4  31.0\n",
              "1       Suuri illusioni  1985    Homo $  actor                   Guests  22.0\n",
              "2   Battle of the Sexes  2017   $hutter  actor          Bobby Riggs Fan  10.0\n",
              "3  Secret in Their Eyes  2015   $hutter  actor          2002 Dodger Fan   NaN\n",
              "4            Steve Jobs  2015   $hutter  actor  1988 Opera House Patron   NaN"
            ]
          },
          "metadata": {
            "tags": []
          },
          "execution_count": 11
        }
      ]
    },
    {
      "cell_type": "code",
      "metadata": {
        "id": "xK56C4rvv_e7",
        "colab_type": "code",
        "colab": {
          "base_uri": "https://localhost:8080/",
          "height": 202
        },
        "outputId": "8077f2c5-a763-4a4b-c798-366b34d5b6d2"
      },
      "source": [
        "release = pd.read_csv('release_dates.csv')\n",
        "release.head()"
      ],
      "execution_count": 132,
      "outputs": [
        {
          "output_type": "execute_result",
          "data": {
            "text/html": [
              "<div>\n",
              "<style scoped>\n",
              "    .dataframe tbody tr th:only-of-type {\n",
              "        vertical-align: middle;\n",
              "    }\n",
              "\n",
              "    .dataframe tbody tr th {\n",
              "        vertical-align: top;\n",
              "    }\n",
              "\n",
              "    .dataframe thead th {\n",
              "        text-align: right;\n",
              "    }\n",
              "</style>\n",
              "<table border=\"1\" class=\"dataframe\">\n",
              "  <thead>\n",
              "    <tr style=\"text-align: right;\">\n",
              "      <th></th>\n",
              "      <th>title</th>\n",
              "      <th>year</th>\n",
              "      <th>country</th>\n",
              "      <th>date</th>\n",
              "    </tr>\n",
              "  </thead>\n",
              "  <tbody>\n",
              "    <tr>\n",
              "      <th>0</th>\n",
              "      <td>#73, Shaanthi Nivaasa</td>\n",
              "      <td>2007</td>\n",
              "      <td>India</td>\n",
              "      <td>2007-06-15</td>\n",
              "    </tr>\n",
              "    <tr>\n",
              "      <th>1</th>\n",
              "      <td>#BKKY</td>\n",
              "      <td>2016</td>\n",
              "      <td>Cambodia</td>\n",
              "      <td>2017-10-12</td>\n",
              "    </tr>\n",
              "    <tr>\n",
              "      <th>2</th>\n",
              "      <td>#Beings</td>\n",
              "      <td>2015</td>\n",
              "      <td>Romania</td>\n",
              "      <td>2015-01-29</td>\n",
              "    </tr>\n",
              "    <tr>\n",
              "      <th>3</th>\n",
              "      <td>#Captured</td>\n",
              "      <td>2017</td>\n",
              "      <td>USA</td>\n",
              "      <td>2017-09-05</td>\n",
              "    </tr>\n",
              "    <tr>\n",
              "      <th>4</th>\n",
              "      <td>#Ewankosau saranghaeyo</td>\n",
              "      <td>2015</td>\n",
              "      <td>Philippines</td>\n",
              "      <td>2015-01-21</td>\n",
              "    </tr>\n",
              "  </tbody>\n",
              "</table>\n",
              "</div>"
            ],
            "text/plain": [
              "                    title  year      country        date\n",
              "0   #73, Shaanthi Nivaasa  2007        India  2007-06-15\n",
              "1                   #BKKY  2016     Cambodia  2017-10-12\n",
              "2                 #Beings  2015      Romania  2015-01-29\n",
              "3               #Captured  2017          USA  2017-09-05\n",
              "4  #Ewankosau saranghaeyo  2015  Philippines  2015-01-21"
            ]
          },
          "metadata": {
            "tags": []
          },
          "execution_count": 132
        }
      ]
    },
    {
      "cell_type": "markdown",
      "metadata": {
        "collapsed": true,
        "id": "B8_nwy48AQVD",
        "colab_type": "text"
      },
      "source": [
        "### How many movies are listed in the titles dataframe?"
      ]
    },
    {
      "cell_type": "code",
      "metadata": {
        "id": "JxbFYK3aAQVE",
        "colab_type": "code",
        "colab": {
          "base_uri": "https://localhost:8080/",
          "height": 34
        },
        "outputId": "91891c17-e6d3-4ea6-8e88-49c7e355f5ab"
      },
      "source": [
        "titles['title'].count()"
      ],
      "execution_count": 141,
      "outputs": [
        {
          "output_type": "execute_result",
          "data": {
            "text/plain": [
              "244914"
            ]
          },
          "metadata": {
            "tags": []
          },
          "execution_count": 141
        }
      ]
    },
    {
      "cell_type": "markdown",
      "metadata": {
        "id": "lPEz2Ik802SW",
        "colab_type": "text"
      },
      "source": [
        "There are 244914 movies in the titles dataframe"
      ]
    },
    {
      "cell_type": "markdown",
      "metadata": {
        "collapsed": true,
        "id": "PdTSMZ9hAQVN",
        "colab_type": "text"
      },
      "source": [
        "### What are the earliest two films listed in the titles dataframe?"
      ]
    },
    {
      "cell_type": "code",
      "metadata": {
        "id": "DWZdP9agAQVO",
        "colab_type": "code",
        "colab": {
          "base_uri": "https://localhost:8080/",
          "height": 202
        },
        "outputId": "d73a6c06-815a-459b-f776-7f0215fa38bf"
      },
      "source": [
        "earliest = titles.sort_values('year', ascending = True)\n",
        "earliest.head()"
      ],
      "execution_count": null,
      "outputs": [
        {
          "output_type": "execute_result",
          "data": {
            "text/html": [
              "<div>\n",
              "<style scoped>\n",
              "    .dataframe tbody tr th:only-of-type {\n",
              "        vertical-align: middle;\n",
              "    }\n",
              "\n",
              "    .dataframe tbody tr th {\n",
              "        vertical-align: top;\n",
              "    }\n",
              "\n",
              "    .dataframe thead th {\n",
              "        text-align: right;\n",
              "    }\n",
              "</style>\n",
              "<table border=\"1\" class=\"dataframe\">\n",
              "  <thead>\n",
              "    <tr style=\"text-align: right;\">\n",
              "      <th></th>\n",
              "      <th>title</th>\n",
              "      <th>year</th>\n",
              "    </tr>\n",
              "  </thead>\n",
              "  <tbody>\n",
              "    <tr>\n",
              "      <th>193222</th>\n",
              "      <td>Miss Jerry</td>\n",
              "      <td>1894</td>\n",
              "    </tr>\n",
              "    <tr>\n",
              "      <th>51388</th>\n",
              "      <td>The Startled Lover</td>\n",
              "      <td>1898</td>\n",
              "    </tr>\n",
              "    <tr>\n",
              "      <th>4584</th>\n",
              "      <td>Reproduction of the Corbett and Jeffries Fight</td>\n",
              "      <td>1899</td>\n",
              "    </tr>\n",
              "    <tr>\n",
              "      <th>219198</th>\n",
              "      <td>May Day Parade</td>\n",
              "      <td>1900</td>\n",
              "    </tr>\n",
              "    <tr>\n",
              "      <th>47548</th>\n",
              "      <td>Pierrot's Problem, or How to Make a Fat Wife O...</td>\n",
              "      <td>1900</td>\n",
              "    </tr>\n",
              "  </tbody>\n",
              "</table>\n",
              "</div>"
            ],
            "text/plain": [
              "                                                    title  year\n",
              "193222                                         Miss Jerry  1894\n",
              "51388                                  The Startled Lover  1898\n",
              "4584       Reproduction of the Corbett and Jeffries Fight  1899\n",
              "219198                                     May Day Parade  1900\n",
              "47548   Pierrot's Problem, or How to Make a Fat Wife O...  1900"
            ]
          },
          "metadata": {
            "tags": []
          },
          "execution_count": 18
        }
      ]
    },
    {
      "cell_type": "markdown",
      "metadata": {
        "id": "1oe2J3lJ18VM",
        "colab_type": "text"
      },
      "source": [
        "The earliest two movies listed in titles dataframe are:\n",
        "1.   Miss Jerry\n",
        "2.   The Startled Lover\n",
        "\n"
      ]
    },
    {
      "cell_type": "markdown",
      "metadata": {
        "collapsed": true,
        "id": "OfCaS-fzAQVZ",
        "colab_type": "text"
      },
      "source": [
        "### How many movies have the title \"Hamlet\"?"
      ]
    },
    {
      "cell_type": "code",
      "metadata": {
        "id": "j9T3F04rAQVf",
        "colab_type": "code",
        "colab": {
          "base_uri": "https://localhost:8080/",
          "height": 202
        },
        "outputId": "1b07f3d1-96e2-43a7-a1cc-566ae92e9124"
      },
      "source": [
        "hamlet=titles[titles['title'].str.contains('Hamlet')]\n",
        "hamlet.head()"
      ],
      "execution_count": 134,
      "outputs": [
        {
          "output_type": "execute_result",
          "data": {
            "text/html": [
              "<div>\n",
              "<style scoped>\n",
              "    .dataframe tbody tr th:only-of-type {\n",
              "        vertical-align: middle;\n",
              "    }\n",
              "\n",
              "    .dataframe tbody tr th {\n",
              "        vertical-align: top;\n",
              "    }\n",
              "\n",
              "    .dataframe thead th {\n",
              "        text-align: right;\n",
              "    }\n",
              "</style>\n",
              "<table border=\"1\" class=\"dataframe\">\n",
              "  <thead>\n",
              "    <tr style=\"text-align: right;\">\n",
              "      <th></th>\n",
              "      <th>title</th>\n",
              "      <th>year</th>\n",
              "    </tr>\n",
              "  </thead>\n",
              "  <tbody>\n",
              "    <tr>\n",
              "      <th>6422</th>\n",
              "      <td>Hamlet</td>\n",
              "      <td>2017</td>\n",
              "    </tr>\n",
              "    <tr>\n",
              "      <th>10637</th>\n",
              "      <td>Hamlet</td>\n",
              "      <td>1921</td>\n",
              "    </tr>\n",
              "    <tr>\n",
              "      <th>39916</th>\n",
              "      <td>Hamlet</td>\n",
              "      <td>1913</td>\n",
              "    </tr>\n",
              "    <tr>\n",
              "      <th>46189</th>\n",
              "      <td>Zombie Hamlet</td>\n",
              "      <td>2012</td>\n",
              "    </tr>\n",
              "    <tr>\n",
              "      <th>48703</th>\n",
              "      <td>Han, hun og Hamlet</td>\n",
              "      <td>1922</td>\n",
              "    </tr>\n",
              "  </tbody>\n",
              "</table>\n",
              "</div>"
            ],
            "text/plain": [
              "                    title  year\n",
              "6422               Hamlet  2017\n",
              "10637              Hamlet  1921\n",
              "39916              Hamlet  1913\n",
              "46189       Zombie Hamlet  2012\n",
              "48703  Han, hun og Hamlet  1922"
            ]
          },
          "metadata": {
            "tags": []
          },
          "execution_count": 134
        }
      ]
    },
    {
      "cell_type": "code",
      "metadata": {
        "id": "mzF5L3OU6zJ5",
        "colab_type": "code",
        "colab": {
          "base_uri": "https://localhost:8080/",
          "height": 34
        },
        "outputId": "0a19f76a-def4-4fca-c439-d272883a7b1a"
      },
      "source": [
        "hamlet['title'].count()"
      ],
      "execution_count": 136,
      "outputs": [
        {
          "output_type": "execute_result",
          "data": {
            "text/plain": [
              "57"
            ]
          },
          "metadata": {
            "tags": []
          },
          "execution_count": 136
        }
      ]
    },
    {
      "cell_type": "markdown",
      "metadata": {
        "id": "Im1D3s8K6eGr",
        "colab_type": "text"
      },
      "source": [
        "There are 57 movies having the title \"Hamlet\""
      ]
    },
    {
      "cell_type": "markdown",
      "metadata": {
        "collapsed": true,
        "id": "UlFy_iNZAQVq",
        "colab_type": "text"
      },
      "source": [
        "### How many movies are titled \"North by Northwest\"?"
      ]
    },
    {
      "cell_type": "code",
      "metadata": {
        "id": "ymd8bEnmAQVr",
        "colab_type": "code",
        "colab": {
          "base_uri": "https://localhost:8080/",
          "height": 34
        },
        "outputId": "2d0387e2-698a-40c7-ad5e-bd7b88196aca"
      },
      "source": [
        "titles[titles['title'] == 'North by Northwest']['title'].count()"
      ],
      "execution_count": 140,
      "outputs": [
        {
          "output_type": "execute_result",
          "data": {
            "text/plain": [
              "1"
            ]
          },
          "metadata": {
            "tags": []
          },
          "execution_count": 140
        }
      ]
    },
    {
      "cell_type": "markdown",
      "metadata": {
        "id": "D9HnPgcS7Sdf",
        "colab_type": "text"
      },
      "source": [
        "There is only one movie titled \"North by Northwest\""
      ]
    },
    {
      "cell_type": "markdown",
      "metadata": {
        "collapsed": true,
        "id": "wiL0Zgx2AQV2",
        "colab_type": "text"
      },
      "source": [
        "### When was the first movie titled \"Hamlet\" made?"
      ]
    },
    {
      "cell_type": "code",
      "metadata": {
        "id": "MU1oyJhzAQV3",
        "colab_type": "code",
        "colab": {
          "base_uri": "https://localhost:8080/",
          "height": 202
        },
        "outputId": "9517292c-d4b3-479f-a636-ab7c0afb5541"
      },
      "source": [
        "hamlet[hamlet.title == 'Hamlet'].sort_values('year', ascending = True).head()"
      ],
      "execution_count": null,
      "outputs": [
        {
          "output_type": "execute_result",
          "data": {
            "text/html": [
              "<div>\n",
              "<style scoped>\n",
              "    .dataframe tbody tr th:only-of-type {\n",
              "        vertical-align: middle;\n",
              "    }\n",
              "\n",
              "    .dataframe tbody tr th {\n",
              "        vertical-align: top;\n",
              "    }\n",
              "\n",
              "    .dataframe thead th {\n",
              "        text-align: right;\n",
              "    }\n",
              "</style>\n",
              "<table border=\"1\" class=\"dataframe\">\n",
              "  <thead>\n",
              "    <tr style=\"text-align: right;\">\n",
              "      <th></th>\n",
              "      <th>title</th>\n",
              "      <th>year</th>\n",
              "    </tr>\n",
              "  </thead>\n",
              "  <tbody>\n",
              "    <tr>\n",
              "      <th>52521</th>\n",
              "      <td>Hamlet</td>\n",
              "      <td>1910</td>\n",
              "    </tr>\n",
              "    <tr>\n",
              "      <th>198234</th>\n",
              "      <td>Hamlet</td>\n",
              "      <td>1911</td>\n",
              "    </tr>\n",
              "    <tr>\n",
              "      <th>39916</th>\n",
              "      <td>Hamlet</td>\n",
              "      <td>1913</td>\n",
              "    </tr>\n",
              "    <tr>\n",
              "      <th>10637</th>\n",
              "      <td>Hamlet</td>\n",
              "      <td>1921</td>\n",
              "    </tr>\n",
              "    <tr>\n",
              "      <th>101728</th>\n",
              "      <td>Hamlet</td>\n",
              "      <td>1948</td>\n",
              "    </tr>\n",
              "  </tbody>\n",
              "</table>\n",
              "</div>"
            ],
            "text/plain": [
              "         title  year\n",
              "52521   Hamlet  1910\n",
              "198234  Hamlet  1911\n",
              "39916   Hamlet  1913\n",
              "10637   Hamlet  1921\n",
              "101728  Hamlet  1948"
            ]
          },
          "metadata": {
            "tags": []
          },
          "execution_count": 23
        }
      ]
    },
    {
      "cell_type": "markdown",
      "metadata": {
        "id": "h4mAdJb786M2",
        "colab_type": "text"
      },
      "source": [
        "The first movie titled \"Hamlet\" was made in 1910"
      ]
    },
    {
      "cell_type": "markdown",
      "metadata": {
        "collapsed": true,
        "id": "ryXFVdURAQV8",
        "colab_type": "text"
      },
      "source": [
        "### List all of the \"Treasure Island\" movies from earliest to most recent."
      ]
    },
    {
      "cell_type": "code",
      "metadata": {
        "id": "-MrRN-6rAQV9",
        "colab_type": "code",
        "colab": {
          "base_uri": "https://localhost:8080/",
          "height": 294
        },
        "outputId": "3f20921a-9520-4594-f92d-65637dfddbeb"
      },
      "source": [
        "titles[titles.title == 'Treasure Island'].sort_values('year', ascending = True) "
      ],
      "execution_count": null,
      "outputs": [
        {
          "output_type": "execute_result",
          "data": {
            "text/html": [
              "<div>\n",
              "<style scoped>\n",
              "    .dataframe tbody tr th:only-of-type {\n",
              "        vertical-align: middle;\n",
              "    }\n",
              "\n",
              "    .dataframe tbody tr th {\n",
              "        vertical-align: top;\n",
              "    }\n",
              "\n",
              "    .dataframe thead th {\n",
              "        text-align: right;\n",
              "    }\n",
              "</style>\n",
              "<table border=\"1\" class=\"dataframe\">\n",
              "  <thead>\n",
              "    <tr style=\"text-align: right;\">\n",
              "      <th></th>\n",
              "      <th>title</th>\n",
              "      <th>year</th>\n",
              "    </tr>\n",
              "  </thead>\n",
              "  <tbody>\n",
              "    <tr>\n",
              "      <th>55686</th>\n",
              "      <td>Treasure Island</td>\n",
              "      <td>1918</td>\n",
              "    </tr>\n",
              "    <tr>\n",
              "      <th>196514</th>\n",
              "      <td>Treasure Island</td>\n",
              "      <td>1920</td>\n",
              "    </tr>\n",
              "    <tr>\n",
              "      <th>141822</th>\n",
              "      <td>Treasure Island</td>\n",
              "      <td>1934</td>\n",
              "    </tr>\n",
              "    <tr>\n",
              "      <th>77354</th>\n",
              "      <td>Treasure Island</td>\n",
              "      <td>1950</td>\n",
              "    </tr>\n",
              "    <tr>\n",
              "      <th>65051</th>\n",
              "      <td>Treasure Island</td>\n",
              "      <td>1972</td>\n",
              "    </tr>\n",
              "    <tr>\n",
              "      <th>37238</th>\n",
              "      <td>Treasure Island</td>\n",
              "      <td>1973</td>\n",
              "    </tr>\n",
              "    <tr>\n",
              "      <th>173051</th>\n",
              "      <td>Treasure Island</td>\n",
              "      <td>1985</td>\n",
              "    </tr>\n",
              "    <tr>\n",
              "      <th>27076</th>\n",
              "      <td>Treasure Island</td>\n",
              "      <td>1999</td>\n",
              "    </tr>\n",
              "  </tbody>\n",
              "</table>\n",
              "</div>"
            ],
            "text/plain": [
              "                  title  year\n",
              "55686   Treasure Island  1918\n",
              "196514  Treasure Island  1920\n",
              "141822  Treasure Island  1934\n",
              "77354   Treasure Island  1950\n",
              "65051   Treasure Island  1972\n",
              "37238   Treasure Island  1973\n",
              "173051  Treasure Island  1985\n",
              "27076   Treasure Island  1999"
            ]
          },
          "metadata": {
            "tags": []
          },
          "execution_count": 24
        }
      ]
    },
    {
      "cell_type": "markdown",
      "metadata": {
        "id": "i_C6ymXT9zK1",
        "colab_type": "text"
      },
      "source": [
        "*   The earliest movie of the 'Treasure Island' was released in the year 1918.\n",
        "*   The latest movie of the 'Treasure Island' was released in the year 1999.\n",
        "\n",
        "\n"
      ]
    },
    {
      "cell_type": "markdown",
      "metadata": {
        "collapsed": true,
        "id": "94IlZj3EAQWF",
        "colab_type": "text"
      },
      "source": [
        "### How many movies were made in the year 1950?"
      ]
    },
    {
      "cell_type": "code",
      "metadata": {
        "id": "RGn-B9i6AQWG",
        "colab_type": "code",
        "colab": {
          "base_uri": "https://localhost:8080/",
          "height": 202
        },
        "outputId": "b81cdcfe-f914-40dd-8692-0f786afe587d"
      },
      "source": [
        "titles[titles.year == 1950].head()"
      ],
      "execution_count": null,
      "outputs": [
        {
          "output_type": "execute_result",
          "data": {
            "text/html": [
              "<div>\n",
              "<style scoped>\n",
              "    .dataframe tbody tr th:only-of-type {\n",
              "        vertical-align: middle;\n",
              "    }\n",
              "\n",
              "    .dataframe tbody tr th {\n",
              "        vertical-align: top;\n",
              "    }\n",
              "\n",
              "    .dataframe thead th {\n",
              "        text-align: right;\n",
              "    }\n",
              "</style>\n",
              "<table border=\"1\" class=\"dataframe\">\n",
              "  <thead>\n",
              "    <tr style=\"text-align: right;\">\n",
              "      <th></th>\n",
              "      <th>title</th>\n",
              "      <th>year</th>\n",
              "    </tr>\n",
              "  </thead>\n",
              "  <tbody>\n",
              "    <tr>\n",
              "      <th>189</th>\n",
              "      <td>La soif des hommes</td>\n",
              "      <td>1950</td>\n",
              "    </tr>\n",
              "    <tr>\n",
              "      <th>268</th>\n",
              "      <td>Sohrab at Rustum</td>\n",
              "      <td>1950</td>\n",
              "    </tr>\n",
              "    <tr>\n",
              "      <th>308</th>\n",
              "      <td>Gemma</td>\n",
              "      <td>1950</td>\n",
              "    </tr>\n",
              "    <tr>\n",
              "      <th>314</th>\n",
              "      <td>Rasuna valea</td>\n",
              "      <td>1950</td>\n",
              "    </tr>\n",
              "    <tr>\n",
              "      <th>524</th>\n",
              "      <td>Trial Without Jury</td>\n",
              "      <td>1950</td>\n",
              "    </tr>\n",
              "  </tbody>\n",
              "</table>\n",
              "</div>"
            ],
            "text/plain": [
              "                  title  year\n",
              "189  La soif des hommes  1950\n",
              "268    Sohrab at Rustum  1950\n",
              "308               Gemma  1950\n",
              "314        Rasuna valea  1950\n",
              "524  Trial Without Jury  1950"
            ]
          },
          "metadata": {
            "tags": []
          },
          "execution_count": 25
        }
      ]
    },
    {
      "cell_type": "code",
      "metadata": {
        "id": "vQnwSTBgG6_R",
        "colab_type": "code",
        "colab": {
          "base_uri": "https://localhost:8080/",
          "height": 34
        },
        "outputId": "117be29b-f263-4233-a459-85f1f712749b"
      },
      "source": [
        "titles[titles.year == 1950]['year'].count()"
      ],
      "execution_count": 122,
      "outputs": [
        {
          "output_type": "execute_result",
          "data": {
            "text/plain": [
              "1113"
            ]
          },
          "metadata": {
            "tags": []
          },
          "execution_count": 122
        }
      ]
    },
    {
      "cell_type": "markdown",
      "metadata": {
        "id": "IqbQF0JnHEBy",
        "colab_type": "text"
      },
      "source": [
        "There were 1113 movies made in year 1950"
      ]
    },
    {
      "cell_type": "markdown",
      "metadata": {
        "collapsed": true,
        "id": "ToTJZhOnAQWM",
        "colab_type": "text"
      },
      "source": [
        "### How many movies were made in the year 1960?"
      ]
    },
    {
      "cell_type": "code",
      "metadata": {
        "id": "LlHVS4XGAQWN",
        "colab_type": "code",
        "colab": {
          "base_uri": "https://localhost:8080/",
          "height": 202
        },
        "outputId": "0c66e831-1d0d-43b2-b7e6-6a7a012a2e93"
      },
      "source": [
        "titles[titles.year == 1960].head()"
      ],
      "execution_count": null,
      "outputs": [
        {
          "output_type": "execute_result",
          "data": {
            "text/html": [
              "<div>\n",
              "<style scoped>\n",
              "    .dataframe tbody tr th:only-of-type {\n",
              "        vertical-align: middle;\n",
              "    }\n",
              "\n",
              "    .dataframe tbody tr th {\n",
              "        vertical-align: top;\n",
              "    }\n",
              "\n",
              "    .dataframe thead th {\n",
              "        text-align: right;\n",
              "    }\n",
              "</style>\n",
              "<table border=\"1\" class=\"dataframe\">\n",
              "  <thead>\n",
              "    <tr style=\"text-align: right;\">\n",
              "      <th></th>\n",
              "      <th>title</th>\n",
              "      <th>year</th>\n",
              "    </tr>\n",
              "  </thead>\n",
              "  <tbody>\n",
              "    <tr>\n",
              "      <th>52</th>\n",
              "      <td>Tayna Dimki Karmiya</td>\n",
              "      <td>1960</td>\n",
              "    </tr>\n",
              "    <tr>\n",
              "      <th>88</th>\n",
              "      <td>Tres angelitos negros</td>\n",
              "      <td>1960</td>\n",
              "    </tr>\n",
              "    <tr>\n",
              "      <th>226</th>\n",
              "      <td>Viuda de oro</td>\n",
              "      <td>1960</td>\n",
              "    </tr>\n",
              "    <tr>\n",
              "      <th>227</th>\n",
              "      <td>Tao se feng yun</td>\n",
              "      <td>1960</td>\n",
              "    </tr>\n",
              "    <tr>\n",
              "      <th>590</th>\n",
              "      <td>Mahallenin sevgilisi</td>\n",
              "      <td>1960</td>\n",
              "    </tr>\n",
              "  </tbody>\n",
              "</table>\n",
              "</div>"
            ],
            "text/plain": [
              "                     title  year\n",
              "52     Tayna Dimki Karmiya  1960\n",
              "88   Tres angelitos negros  1960\n",
              "226           Viuda de oro  1960\n",
              "227        Tao se feng yun  1960\n",
              "590   Mahallenin sevgilisi  1960"
            ]
          },
          "metadata": {
            "tags": []
          },
          "execution_count": 27
        }
      ]
    },
    {
      "cell_type": "code",
      "metadata": {
        "id": "ZMWvMbUVHR7d",
        "colab_type": "code",
        "colab": {
          "base_uri": "https://localhost:8080/",
          "height": 34
        },
        "outputId": "3ce2171d-d302-4edd-a424-a5f2a43c5ab3"
      },
      "source": [
        "titles[titles.year == 1960]['year'].count()"
      ],
      "execution_count": 123,
      "outputs": [
        {
          "output_type": "execute_result",
          "data": {
            "text/plain": [
              "1549"
            ]
          },
          "metadata": {
            "tags": []
          },
          "execution_count": 123
        }
      ]
    },
    {
      "cell_type": "markdown",
      "metadata": {
        "id": "AoCEv-lYHXLo",
        "colab_type": "text"
      },
      "source": [
        "There were 1549 movies made in the year 1960"
      ]
    },
    {
      "cell_type": "markdown",
      "metadata": {
        "collapsed": true,
        "id": "8T9EEsRAAQWV",
        "colab_type": "text"
      },
      "source": [
        "### How many movies were made from 1950 through 1959?"
      ]
    },
    {
      "cell_type": "code",
      "metadata": {
        "id": "x_v7WkkwAQWX",
        "colab_type": "code",
        "colab": {
          "base_uri": "https://localhost:8080/",
          "height": 416
        },
        "outputId": "0619e080-1a29-4a53-acde-be3b0c9acdb1"
      },
      "source": [
        "titles[(titles['year'] >= 1950) & (titles['year'] < 1960)]"
      ],
      "execution_count": null,
      "outputs": [
        {
          "output_type": "execute_result",
          "data": {
            "text/html": [
              "<div>\n",
              "<style scoped>\n",
              "    .dataframe tbody tr th:only-of-type {\n",
              "        vertical-align: middle;\n",
              "    }\n",
              "\n",
              "    .dataframe tbody tr th {\n",
              "        vertical-align: top;\n",
              "    }\n",
              "\n",
              "    .dataframe thead th {\n",
              "        text-align: right;\n",
              "    }\n",
              "</style>\n",
              "<table border=\"1\" class=\"dataframe\">\n",
              "  <thead>\n",
              "    <tr style=\"text-align: right;\">\n",
              "      <th></th>\n",
              "      <th>title</th>\n",
              "      <th>year</th>\n",
              "    </tr>\n",
              "  </thead>\n",
              "  <tbody>\n",
              "    <tr>\n",
              "      <th>5</th>\n",
              "      <td>Tight Spot</td>\n",
              "      <td>1955</td>\n",
              "    </tr>\n",
              "    <tr>\n",
              "      <th>8</th>\n",
              "      <td>Bao dao mei ren</td>\n",
              "      <td>1956</td>\n",
              "    </tr>\n",
              "    <tr>\n",
              "      <th>45</th>\n",
              "      <td>Trois de la marine</td>\n",
              "      <td>1957</td>\n",
              "    </tr>\n",
              "    <tr>\n",
              "      <th>48</th>\n",
              "      <td>Hong hong</td>\n",
              "      <td>1956</td>\n",
              "    </tr>\n",
              "    <tr>\n",
              "      <th>61</th>\n",
              "      <td>Alarma in munti</td>\n",
              "      <td>1955</td>\n",
              "    </tr>\n",
              "    <tr>\n",
              "      <th>...</th>\n",
              "      <td>...</td>\n",
              "      <td>...</td>\n",
              "    </tr>\n",
              "    <tr>\n",
              "      <th>244803</th>\n",
              "      <td>Touch and Go</td>\n",
              "      <td>1955</td>\n",
              "    </tr>\n",
              "    <tr>\n",
              "      <th>244817</th>\n",
              "      <td>White Feather</td>\n",
              "      <td>1955</td>\n",
              "    </tr>\n",
              "    <tr>\n",
              "      <th>244818</th>\n",
              "      <td>Carovana di canzoni</td>\n",
              "      <td>1955</td>\n",
              "    </tr>\n",
              "    <tr>\n",
              "      <th>244820</th>\n",
              "      <td>Doctor X</td>\n",
              "      <td>1950</td>\n",
              "    </tr>\n",
              "    <tr>\n",
              "      <th>244841</th>\n",
              "      <td>Matros soshyol na bereg</td>\n",
              "      <td>1957</td>\n",
              "    </tr>\n",
              "  </tbody>\n",
              "</table>\n",
              "<p>12934 rows × 2 columns</p>\n",
              "</div>"
            ],
            "text/plain": [
              "                          title  year\n",
              "5                    Tight Spot  1955\n",
              "8               Bao dao mei ren  1956\n",
              "45           Trois de la marine  1957\n",
              "48                    Hong hong  1956\n",
              "61              Alarma in munti  1955\n",
              "...                         ...   ...\n",
              "244803             Touch and Go  1955\n",
              "244817            White Feather  1955\n",
              "244818      Carovana di canzoni  1955\n",
              "244820                 Doctor X  1950\n",
              "244841  Matros soshyol na bereg  1957\n",
              "\n",
              "[12934 rows x 2 columns]"
            ]
          },
          "metadata": {
            "tags": []
          },
          "execution_count": 28
        }
      ]
    },
    {
      "cell_type": "code",
      "metadata": {
        "id": "OYvgG7gsdV6v",
        "colab_type": "code",
        "colab": {
          "base_uri": "https://localhost:8080/",
          "height": 34
        },
        "outputId": "0ed8a70a-db8a-449b-85d6-26a1bb87ad62"
      },
      "source": [
        "len(titles[(titles['year'] >= 1950) & (titles['year'] < 1960)])"
      ],
      "execution_count": null,
      "outputs": [
        {
          "output_type": "execute_result",
          "data": {
            "text/plain": [
              "12934"
            ]
          },
          "metadata": {
            "tags": []
          },
          "execution_count": 29
        }
      ]
    },
    {
      "cell_type": "markdown",
      "metadata": {
        "id": "b_g2FQN8dcxr",
        "colab_type": "text"
      },
      "source": [
        "The total number of movies released between 1950 to 1960 is 12934"
      ]
    },
    {
      "cell_type": "markdown",
      "metadata": {
        "collapsed": true,
        "id": "nofzxHHdAQWd",
        "colab_type": "text"
      },
      "source": [
        "### In what years has a movie titled \"Batman\" been released?"
      ]
    },
    {
      "cell_type": "code",
      "metadata": {
        "id": "ypDuxmGHAQWe",
        "colab_type": "code",
        "colab": {
          "base_uri": "https://localhost:8080/",
          "height": 109
        },
        "outputId": "14b7bb4e-f66f-4263-8abf-fdd0969d6d98"
      },
      "source": [
        "titles[titles.title == 'Batman']"
      ],
      "execution_count": null,
      "outputs": [
        {
          "output_type": "execute_result",
          "data": {
            "text/html": [
              "<div>\n",
              "<style scoped>\n",
              "    .dataframe tbody tr th:only-of-type {\n",
              "        vertical-align: middle;\n",
              "    }\n",
              "\n",
              "    .dataframe tbody tr th {\n",
              "        vertical-align: top;\n",
              "    }\n",
              "\n",
              "    .dataframe thead th {\n",
              "        text-align: right;\n",
              "    }\n",
              "</style>\n",
              "<table border=\"1\" class=\"dataframe\">\n",
              "  <thead>\n",
              "    <tr style=\"text-align: right;\">\n",
              "      <th></th>\n",
              "      <th>title</th>\n",
              "      <th>year</th>\n",
              "    </tr>\n",
              "  </thead>\n",
              "  <tbody>\n",
              "    <tr>\n",
              "      <th>39349</th>\n",
              "      <td>Batman</td>\n",
              "      <td>1943</td>\n",
              "    </tr>\n",
              "    <tr>\n",
              "      <th>240896</th>\n",
              "      <td>Batman</td>\n",
              "      <td>1989</td>\n",
              "    </tr>\n",
              "  </tbody>\n",
              "</table>\n",
              "</div>"
            ],
            "text/plain": [
              "         title  year\n",
              "39349   Batman  1943\n",
              "240896  Batman  1989"
            ]
          },
          "metadata": {
            "tags": []
          },
          "execution_count": 30
        }
      ]
    },
    {
      "cell_type": "markdown",
      "metadata": {
        "id": "LsBrh6iJeg6v",
        "colab_type": "text"
      },
      "source": [
        "In years 1943 and 1989 the Batman movie has been released"
      ]
    },
    {
      "cell_type": "code",
      "metadata": {
        "id": "O9dMTDRuzLRW",
        "colab_type": "code",
        "colab": {
          "base_uri": "https://localhost:8080/",
          "height": 202
        },
        "outputId": "beb497eb-9337-4a51-b0dc-75c2f55e61ad"
      },
      "source": [
        "cast.head()"
      ],
      "execution_count": null,
      "outputs": [
        {
          "output_type": "execute_result",
          "data": {
            "text/html": [
              "<div>\n",
              "<style scoped>\n",
              "    .dataframe tbody tr th:only-of-type {\n",
              "        vertical-align: middle;\n",
              "    }\n",
              "\n",
              "    .dataframe tbody tr th {\n",
              "        vertical-align: top;\n",
              "    }\n",
              "\n",
              "    .dataframe thead th {\n",
              "        text-align: right;\n",
              "    }\n",
              "</style>\n",
              "<table border=\"1\" class=\"dataframe\">\n",
              "  <thead>\n",
              "    <tr style=\"text-align: right;\">\n",
              "      <th></th>\n",
              "      <th>title</th>\n",
              "      <th>year</th>\n",
              "      <th>name</th>\n",
              "      <th>type</th>\n",
              "      <th>character</th>\n",
              "      <th>n</th>\n",
              "    </tr>\n",
              "  </thead>\n",
              "  <tbody>\n",
              "    <tr>\n",
              "      <th>0</th>\n",
              "      <td>Closet Monster</td>\n",
              "      <td>2015</td>\n",
              "      <td>Buffy #1</td>\n",
              "      <td>actor</td>\n",
              "      <td>Buffy 4</td>\n",
              "      <td>31.0</td>\n",
              "    </tr>\n",
              "    <tr>\n",
              "      <th>1</th>\n",
              "      <td>Suuri illusioni</td>\n",
              "      <td>1985</td>\n",
              "      <td>Homo $</td>\n",
              "      <td>actor</td>\n",
              "      <td>Guests</td>\n",
              "      <td>22.0</td>\n",
              "    </tr>\n",
              "    <tr>\n",
              "      <th>2</th>\n",
              "      <td>Battle of the Sexes</td>\n",
              "      <td>2017</td>\n",
              "      <td>$hutter</td>\n",
              "      <td>actor</td>\n",
              "      <td>Bobby Riggs Fan</td>\n",
              "      <td>10.0</td>\n",
              "    </tr>\n",
              "    <tr>\n",
              "      <th>3</th>\n",
              "      <td>Secret in Their Eyes</td>\n",
              "      <td>2015</td>\n",
              "      <td>$hutter</td>\n",
              "      <td>actor</td>\n",
              "      <td>2002 Dodger Fan</td>\n",
              "      <td>NaN</td>\n",
              "    </tr>\n",
              "    <tr>\n",
              "      <th>4</th>\n",
              "      <td>Steve Jobs</td>\n",
              "      <td>2015</td>\n",
              "      <td>$hutter</td>\n",
              "      <td>actor</td>\n",
              "      <td>1988 Opera House Patron</td>\n",
              "      <td>NaN</td>\n",
              "    </tr>\n",
              "  </tbody>\n",
              "</table>\n",
              "</div>"
            ],
            "text/plain": [
              "                  title  year      name   type                character     n\n",
              "0        Closet Monster  2015  Buffy #1  actor                  Buffy 4  31.0\n",
              "1       Suuri illusioni  1985    Homo $  actor                   Guests  22.0\n",
              "2   Battle of the Sexes  2017   $hutter  actor          Bobby Riggs Fan  10.0\n",
              "3  Secret in Their Eyes  2015   $hutter  actor          2002 Dodger Fan   NaN\n",
              "4            Steve Jobs  2015   $hutter  actor  1988 Opera House Patron   NaN"
            ]
          },
          "metadata": {
            "tags": []
          },
          "execution_count": 31
        }
      ]
    },
    {
      "cell_type": "markdown",
      "metadata": {
        "collapsed": true,
        "id": "hiUJALU7AQWj",
        "colab_type": "text"
      },
      "source": [
        "### How many roles were there in the movie \"Inception\"?"
      ]
    },
    {
      "cell_type": "code",
      "metadata": {
        "id": "zX6th6t8AQWk",
        "colab_type": "code",
        "colab": {
          "base_uri": "https://localhost:8080/",
          "height": 34
        },
        "outputId": "91094adb-c1d5-4d80-f076-801ea32d312b"
      },
      "source": [
        "inception = cast[cast.title == 'Inception']\n",
        "inception['character'].count()"
      ],
      "execution_count": 121,
      "outputs": [
        {
          "output_type": "execute_result",
          "data": {
            "text/plain": [
              "78"
            ]
          },
          "metadata": {
            "tags": []
          },
          "execution_count": 121
        }
      ]
    },
    {
      "cell_type": "markdown",
      "metadata": {
        "id": "Vqrls2pQYUrB",
        "colab_type": "text"
      },
      "source": [
        "There are total 78 roles in the movie \"Inception\""
      ]
    },
    {
      "cell_type": "markdown",
      "metadata": {
        "collapsed": true,
        "id": "DB8ZFOjLAQWr",
        "colab_type": "text"
      },
      "source": [
        "### How many roles in the movie \"Inception\" are NOT ranked by an \"n\" value?"
      ]
    },
    {
      "cell_type": "code",
      "metadata": {
        "id": "T2cJsNURAQWr",
        "colab_type": "code",
        "colab": {
          "base_uri": "https://localhost:8080/",
          "height": 34
        },
        "outputId": "439160d0-d30e-4d45-fd1b-e42a843f8e05"
      },
      "source": [
        "inception['n'].isna().sum()"
      ],
      "execution_count": null,
      "outputs": [
        {
          "output_type": "execute_result",
          "data": {
            "text/plain": [
              "27"
            ]
          },
          "metadata": {
            "tags": []
          },
          "execution_count": 36
        }
      ]
    },
    {
      "cell_type": "markdown",
      "metadata": {
        "id": "Kykmxm-aamPw",
        "colab_type": "text"
      },
      "source": [
        "There are 27 'n' values which are not ranked in the movie 'Inception'"
      ]
    },
    {
      "cell_type": "markdown",
      "metadata": {
        "collapsed": true,
        "id": "SVCpU8EXAQW1",
        "colab_type": "text"
      },
      "source": [
        "### But how many roles in the movie \"Inception\" did receive an \"n\" value?"
      ]
    },
    {
      "cell_type": "code",
      "metadata": {
        "id": "-B6_0iTdAQW3",
        "colab_type": "code",
        "colab": {
          "base_uri": "https://localhost:8080/",
          "height": 34
        },
        "outputId": "ad64a057-aaa8-44fa-ae55-916965c13fb8"
      },
      "source": [
        " inception[pd.notnull(inception['n'])]['n'].count()"
      ],
      "execution_count": 119,
      "outputs": [
        {
          "output_type": "execute_result",
          "data": {
            "text/plain": [
              "51"
            ]
          },
          "metadata": {
            "tags": []
          },
          "execution_count": 119
        }
      ]
    },
    {
      "cell_type": "markdown",
      "metadata": {
        "id": "Uy2NCM82a3s2",
        "colab_type": "text"
      },
      "source": [
        "There are 51 roles in the movie \"Inception\" which received 'n' values"
      ]
    },
    {
      "cell_type": "markdown",
      "metadata": {
        "collapsed": true,
        "id": "hfVFyQnGAQW_",
        "colab_type": "text"
      },
      "source": [
        "### Display the cast of \"North by Northwest\" in their correct \"n\"-value order, ignoring roles that did not earn a numeric \"n\" value."
      ]
    },
    {
      "cell_type": "code",
      "metadata": {
        "id": "pXYUDmDUAQW_",
        "colab_type": "code",
        "colab": {
          "base_uri": "https://localhost:8080/",
          "height": 311
        },
        "outputId": "266a1c44-8b62-47c6-dbd5-fa80d08db279"
      },
      "source": [
        "#Sorting the values according to the 'n'-value order\n",
        "north = cast[cast.title == 'North by Northwest'].sort_values('n', ascending = True)\n",
        "\n",
        "#ignoring the values which do not have a 'n' value\n",
        "#Hence filtering the whole dataframe\n",
        "bool_series = pd.notnull(north['n'])\n",
        "\n",
        "#Displaying the cast of \"North by Northwest\"\n",
        "north[bool_series]['name']"
      ],
      "execution_count": 120,
      "outputs": [
        {
          "output_type": "execute_result",
          "data": {
            "text/plain": [
              "871426               Cary Grant\n",
              "3518333         Eva Marie Saint\n",
              "1457165             James Mason\n",
              "3157232     Jessie Royce Landis\n",
              "356707           Leo G. Carroll\n",
              "3048272    Josephine Hutchinson\n",
              "1695173             Philip Ober\n",
              "1275337           Martin Landau\n",
              "2447081           Adam Williams\n",
              "1811387            Edward Platt\n",
              "665768        Robert Ellenstein\n",
              "2295714            Les Tremayne\n",
              "464736          Philip Coolidge\n",
              "1508344           Patrick McVey\n",
              "206471             Edward Binns\n",
              "1384780               Ken Lynch\n",
              "Name: name, dtype: object"
            ]
          },
          "metadata": {
            "tags": []
          },
          "execution_count": 120
        }
      ]
    },
    {
      "cell_type": "markdown",
      "metadata": {
        "collapsed": true,
        "id": "oKcZrQI7AQXG",
        "colab_type": "text"
      },
      "source": [
        "### Display the entire cast, in \"n\"-order, of the 1972 film \"Sleuth\"."
      ]
    },
    {
      "cell_type": "code",
      "metadata": {
        "id": "Bj8fK3x_AQXH",
        "colab_type": "code",
        "colab": {
          "base_uri": "https://localhost:8080/",
          "height": 233
        },
        "outputId": "66fef783-2f70-4560-d9bf-5fac80d5124e"
      },
      "source": [
        "cast[(cast.title == \"Sleuth\") & (cast.year == 1972)].sort_values('n', ascending = True)\n",
        "#year_1972 = sleuth[sleuth.year == 1972]\n",
        "#year_1972"
      ],
      "execution_count": 100,
      "outputs": [
        {
          "output_type": "execute_result",
          "data": {
            "text/html": [
              "<div>\n",
              "<style scoped>\n",
              "    .dataframe tbody tr th:only-of-type {\n",
              "        vertical-align: middle;\n",
              "    }\n",
              "\n",
              "    .dataframe tbody tr th {\n",
              "        vertical-align: top;\n",
              "    }\n",
              "\n",
              "    .dataframe thead th {\n",
              "        text-align: right;\n",
              "    }\n",
              "</style>\n",
              "<table border=\"1\" class=\"dataframe\">\n",
              "  <thead>\n",
              "    <tr style=\"text-align: right;\">\n",
              "      <th></th>\n",
              "      <th>title</th>\n",
              "      <th>year</th>\n",
              "      <th>name</th>\n",
              "      <th>type</th>\n",
              "      <th>character</th>\n",
              "      <th>n</th>\n",
              "    </tr>\n",
              "  </thead>\n",
              "  <tbody>\n",
              "    <tr>\n",
              "      <th>1705394</th>\n",
              "      <td>Sleuth</td>\n",
              "      <td>1972</td>\n",
              "      <td>Laurence Olivier</td>\n",
              "      <td>actor</td>\n",
              "      <td>Andrew Wyke</td>\n",
              "      <td>1.0</td>\n",
              "    </tr>\n",
              "    <tr>\n",
              "      <th>326773</th>\n",
              "      <td>Sleuth</td>\n",
              "      <td>1972</td>\n",
              "      <td>Michael Caine</td>\n",
              "      <td>actor</td>\n",
              "      <td>Milo Tindle</td>\n",
              "      <td>2.0</td>\n",
              "    </tr>\n",
              "    <tr>\n",
              "      <th>373876</th>\n",
              "      <td>Sleuth</td>\n",
              "      <td>1972</td>\n",
              "      <td>Alec Cawthorne</td>\n",
              "      <td>actor</td>\n",
              "      <td>Inspector Doppler</td>\n",
              "      <td>3.0</td>\n",
              "    </tr>\n",
              "    <tr>\n",
              "      <th>1465483</th>\n",
              "      <td>Sleuth</td>\n",
              "      <td>1972</td>\n",
              "      <td>John (II) Matthews</td>\n",
              "      <td>actor</td>\n",
              "      <td>Detective Sergeant Tarrant</td>\n",
              "      <td>4.0</td>\n",
              "    </tr>\n",
              "    <tr>\n",
              "      <th>2724553</th>\n",
              "      <td>Sleuth</td>\n",
              "      <td>1972</td>\n",
              "      <td>Eve (III) Channing</td>\n",
              "      <td>actress</td>\n",
              "      <td>Marguerite Wyke</td>\n",
              "      <td>5.0</td>\n",
              "    </tr>\n",
              "    <tr>\n",
              "      <th>1448690</th>\n",
              "      <td>Sleuth</td>\n",
              "      <td>1972</td>\n",
              "      <td>Teddy Martin</td>\n",
              "      <td>actor</td>\n",
              "      <td>Police Constable Higgs</td>\n",
              "      <td>6.0</td>\n",
              "    </tr>\n",
              "  </tbody>\n",
              "</table>\n",
              "</div>"
            ],
            "text/plain": [
              "          title  year  ...                   character    n\n",
              "1705394  Sleuth  1972  ...                 Andrew Wyke  1.0\n",
              "326773   Sleuth  1972  ...                 Milo Tindle  2.0\n",
              "373876   Sleuth  1972  ...           Inspector Doppler  3.0\n",
              "1465483  Sleuth  1972  ...  Detective Sergeant Tarrant  4.0\n",
              "2724553  Sleuth  1972  ...             Marguerite Wyke  5.0\n",
              "1448690  Sleuth  1972  ...      Police Constable Higgs  6.0\n",
              "\n",
              "[6 rows x 6 columns]"
            ]
          },
          "metadata": {
            "tags": []
          },
          "execution_count": 100
        }
      ]
    },
    {
      "cell_type": "markdown",
      "metadata": {
        "collapsed": true,
        "id": "nTnoEbT9AQXX",
        "colab_type": "text"
      },
      "source": [
        "### Now display the entire cast, in \"n\"-order, of the 2007 version of \"Sleuth\"."
      ]
    },
    {
      "cell_type": "code",
      "metadata": {
        "id": "yaUGC18lAQXY",
        "colab_type": "code",
        "colab": {
          "base_uri": "https://localhost:8080/",
          "height": 263
        },
        "outputId": "74a22a99-5b01-481a-8014-4610acfbd16a"
      },
      "source": [
        "year_2007 = sleuth[sleuth.year == 2007]\n",
        "year_2007"
      ],
      "execution_count": null,
      "outputs": [
        {
          "output_type": "execute_result",
          "data": {
            "text/html": [
              "<div>\n",
              "<style scoped>\n",
              "    .dataframe tbody tr th:only-of-type {\n",
              "        vertical-align: middle;\n",
              "    }\n",
              "\n",
              "    .dataframe tbody tr th {\n",
              "        vertical-align: top;\n",
              "    }\n",
              "\n",
              "    .dataframe thead th {\n",
              "        text-align: right;\n",
              "    }\n",
              "</style>\n",
              "<table border=\"1\" class=\"dataframe\">\n",
              "  <thead>\n",
              "    <tr style=\"text-align: right;\">\n",
              "      <th></th>\n",
              "      <th>title</th>\n",
              "      <th>year</th>\n",
              "      <th>name</th>\n",
              "      <th>type</th>\n",
              "      <th>character</th>\n",
              "      <th>n</th>\n",
              "    </tr>\n",
              "  </thead>\n",
              "  <tbody>\n",
              "    <tr>\n",
              "      <th>326774</th>\n",
              "      <td>Sleuth</td>\n",
              "      <td>2007</td>\n",
              "      <td>Michael Caine</td>\n",
              "      <td>actor</td>\n",
              "      <td>Andrew</td>\n",
              "      <td>1.0</td>\n",
              "    </tr>\n",
              "    <tr>\n",
              "      <th>1293634</th>\n",
              "      <td>Sleuth</td>\n",
              "      <td>2007</td>\n",
              "      <td>Jude Law</td>\n",
              "      <td>actor</td>\n",
              "      <td>Milo</td>\n",
              "      <td>2.0</td>\n",
              "    </tr>\n",
              "    <tr>\n",
              "      <th>1805907</th>\n",
              "      <td>Sleuth</td>\n",
              "      <td>2007</td>\n",
              "      <td>Harold Pinter</td>\n",
              "      <td>actor</td>\n",
              "      <td>Man on T.V.</td>\n",
              "      <td>3.0</td>\n",
              "    </tr>\n",
              "    <tr>\n",
              "      <th>260242</th>\n",
              "      <td>Sleuth</td>\n",
              "      <td>2007</td>\n",
              "      <td>Kenneth Branagh</td>\n",
              "      <td>actor</td>\n",
              "      <td>Other Man on T.V.</td>\n",
              "      <td>NaN</td>\n",
              "    </tr>\n",
              "    <tr>\n",
              "      <th>373877</th>\n",
              "      <td>Sleuth</td>\n",
              "      <td>2007</td>\n",
              "      <td>Alec (II) Cawthorne</td>\n",
              "      <td>actor</td>\n",
              "      <td>Inspector Doppler</td>\n",
              "      <td>NaN</td>\n",
              "    </tr>\n",
              "    <tr>\n",
              "      <th>2724552</th>\n",
              "      <td>Sleuth</td>\n",
              "      <td>2007</td>\n",
              "      <td>Eve (II) Channing</td>\n",
              "      <td>actress</td>\n",
              "      <td>Marguerite Wyke</td>\n",
              "      <td>NaN</td>\n",
              "    </tr>\n",
              "    <tr>\n",
              "      <th>3370424</th>\n",
              "      <td>Sleuth</td>\n",
              "      <td>2007</td>\n",
              "      <td>Carmel O'Sullivan</td>\n",
              "      <td>actress</td>\n",
              "      <td>Maggie</td>\n",
              "      <td>NaN</td>\n",
              "    </tr>\n",
              "  </tbody>\n",
              "</table>\n",
              "</div>"
            ],
            "text/plain": [
              "          title  year                 name     type          character    n\n",
              "326774   Sleuth  2007        Michael Caine    actor             Andrew  1.0\n",
              "1293634  Sleuth  2007             Jude Law    actor               Milo  2.0\n",
              "1805907  Sleuth  2007        Harold Pinter    actor        Man on T.V.  3.0\n",
              "260242   Sleuth  2007      Kenneth Branagh    actor  Other Man on T.V.  NaN\n",
              "373877   Sleuth  2007  Alec (II) Cawthorne    actor  Inspector Doppler  NaN\n",
              "2724552  Sleuth  2007    Eve (II) Channing  actress    Marguerite Wyke  NaN\n",
              "3370424  Sleuth  2007    Carmel O'Sullivan  actress             Maggie  NaN"
            ]
          },
          "metadata": {
            "tags": []
          },
          "execution_count": 58
        }
      ]
    },
    {
      "cell_type": "markdown",
      "metadata": {
        "collapsed": true,
        "id": "_W3JfIcBAQXj",
        "colab_type": "text"
      },
      "source": [
        "### How many roles were credited in the silent 1921 version of Hamlet?"
      ]
    },
    {
      "cell_type": "code",
      "metadata": {
        "id": "Et9IQOCfAQXk",
        "colab_type": "code",
        "colab": {
          "base_uri": "https://localhost:8080/",
          "height": 34
        },
        "outputId": "73ef0e2e-0bda-4171-93bb-62dd956480c1"
      },
      "source": [
        "#silent = cast[cast.title == \"Hamlet\"].sort_values('n', ascending = True)\n",
        "#silent[silent.year == 1921]\n",
        "#silent[silent.year == 1921].count(axis = 0)\n",
        "len(cast[(cast.title == 'Hamlet') & (cast.year == 1921)].character)"
      ],
      "execution_count": null,
      "outputs": [
        {
          "output_type": "execute_result",
          "data": {
            "text/plain": [
              "9"
            ]
          },
          "metadata": {
            "tags": []
          },
          "execution_count": 15
        }
      ]
    },
    {
      "cell_type": "markdown",
      "metadata": {
        "id": "UAs8IlH4IJY2",
        "colab_type": "text"
      },
      "source": [
        "A total of 9 roles were credited in the silent 1921 version of Hamlet"
      ]
    },
    {
      "cell_type": "markdown",
      "metadata": {
        "collapsed": true,
        "id": "tnbeJsvWAQXw",
        "colab_type": "text"
      },
      "source": [
        "### How many roles were credited in Branagh’s 1996 Hamlet?"
      ]
    },
    {
      "cell_type": "code",
      "metadata": {
        "id": "DmUTvKMLAQXx",
        "colab_type": "code",
        "colab": {
          "base_uri": "https://localhost:8080/",
          "height": 34
        },
        "outputId": "947357d7-cde2-4a62-807d-d9e666c70193"
      },
      "source": [
        "#role = cast[cast.title == \"Hamlet\"].sort_values('n', ascending = True)\n",
        "#role[role.year == 1996].count(axis=0)\n",
        "len(cast[(cast.title == 'Hamlet') & (cast.year == 1996)].character)"
      ],
      "execution_count": null,
      "outputs": [
        {
          "output_type": "execute_result",
          "data": {
            "text/plain": [
              "54"
            ]
          },
          "metadata": {
            "tags": []
          },
          "execution_count": 20
        }
      ]
    },
    {
      "cell_type": "markdown",
      "metadata": {
        "id": "V47tB72gOdmY",
        "colab_type": "text"
      },
      "source": [
        "There are total 54 roles which were credited in Branagh's 1996 Hamlet"
      ]
    },
    {
      "cell_type": "markdown",
      "metadata": {
        "collapsed": true,
        "id": "8kD9F89MAQX7",
        "colab_type": "text"
      },
      "source": [
        "### How many \"Hamlet\" roles have been listed in all film credits through history?"
      ]
    },
    {
      "cell_type": "code",
      "metadata": {
        "id": "VqyR56YhAQX7",
        "colab_type": "code",
        "colab": {
          "base_uri": "https://localhost:8080/",
          "height": 34
        },
        "outputId": "132436ef-b72a-47e3-ead0-8f5cabc800ae"
      },
      "source": [
        "#roles = cast[cast.title == \"Hamlet\"].sort_values('n', ascending = True)\n",
        "#roles.count()\n",
        "len(cast[cast.title == 'Hamlet'])"
      ],
      "execution_count": null,
      "outputs": [
        {
          "output_type": "execute_result",
          "data": {
            "text/plain": [
              "342"
            ]
          },
          "metadata": {
            "tags": []
          },
          "execution_count": 18
        }
      ]
    },
    {
      "cell_type": "markdown",
      "metadata": {
        "id": "MDaSU5IAPXz9",
        "colab_type": "text"
      },
      "source": [
        "There are total 342 roles in \"Hamlet\" which have been listed in all film credits through history"
      ]
    },
    {
      "cell_type": "markdown",
      "metadata": {
        "collapsed": true,
        "id": "tNXYHTghAQYF",
        "colab_type": "text"
      },
      "source": [
        "### How many people have played an \"Ophelia\"?"
      ]
    },
    {
      "cell_type": "code",
      "metadata": {
        "id": "0x25sbqWAQYG",
        "colab_type": "code",
        "colab": {
          "base_uri": "https://localhost:8080/",
          "height": 34
        },
        "outputId": "d195dc4c-7977-4217-d510-5ce1fb58b270"
      },
      "source": [
        "len(cast[cast['character'] == 'Ophelia'].character)"
      ],
      "execution_count": null,
      "outputs": [
        {
          "output_type": "execute_result",
          "data": {
            "text/plain": [
              "117"
            ]
          },
          "metadata": {
            "tags": []
          },
          "execution_count": 22
        }
      ]
    },
    {
      "cell_type": "markdown",
      "metadata": {
        "id": "A7gBe0P4RGc9",
        "colab_type": "text"
      },
      "source": [
        "There are total 117 people who have played as \"Ophelia\""
      ]
    },
    {
      "cell_type": "markdown",
      "metadata": {
        "collapsed": true,
        "id": "ZZ4TdDU5AQYZ",
        "colab_type": "text"
      },
      "source": [
        "### How many people have played a role called \"The Dude\"?"
      ]
    },
    {
      "cell_type": "code",
      "metadata": {
        "id": "u74AGRxNAQYa",
        "colab_type": "code",
        "colab": {
          "base_uri": "https://localhost:8080/",
          "height": 34
        },
        "outputId": "584e6be7-59e7-42fe-ceaf-d1c263ea0f39"
      },
      "source": [
        "len(cast[cast['character'] == 'The Dude'].character)"
      ],
      "execution_count": null,
      "outputs": [
        {
          "output_type": "execute_result",
          "data": {
            "text/plain": [
              "19"
            ]
          },
          "metadata": {
            "tags": []
          },
          "execution_count": 24
        }
      ]
    },
    {
      "cell_type": "markdown",
      "metadata": {
        "id": "0Yx1M8yWSdVz",
        "colab_type": "text"
      },
      "source": [
        "There are 19 people who have played the tole of \"The Dude\""
      ]
    },
    {
      "cell_type": "markdown",
      "metadata": {
        "collapsed": true,
        "id": "gsn8k4yMAQYl",
        "colab_type": "text"
      },
      "source": [
        "### How many people have played a role called \"The Stranger\"?"
      ]
    },
    {
      "cell_type": "code",
      "metadata": {
        "id": "IGmzGR96AQYm",
        "colab_type": "code",
        "colab": {
          "base_uri": "https://localhost:8080/",
          "height": 34
        },
        "outputId": "35ac8fcc-43a9-4309-8eba-a7310a073edd"
      },
      "source": [
        "len(cast[cast['character'] == 'The Stranger'].character)"
      ],
      "execution_count": null,
      "outputs": [
        {
          "output_type": "execute_result",
          "data": {
            "text/plain": [
              "212"
            ]
          },
          "metadata": {
            "tags": []
          },
          "execution_count": 25
        }
      ]
    },
    {
      "cell_type": "markdown",
      "metadata": {
        "id": "zvdVIvosSwqY",
        "colab_type": "text"
      },
      "source": [
        "There were 212 people who have played a role called 'The Stranger'"
      ]
    },
    {
      "cell_type": "markdown",
      "metadata": {
        "collapsed": true,
        "id": "oiGZI_ZYAQYy",
        "colab_type": "text"
      },
      "source": [
        "### How many roles has Sidney Poitier played throughout his career?"
      ]
    },
    {
      "cell_type": "code",
      "metadata": {
        "id": "JMwICBHZAQYz",
        "colab_type": "code",
        "colab": {
          "base_uri": "https://localhost:8080/",
          "height": 34
        },
        "outputId": "9ad1f0e0-ceab-4924-bf50-bd94624d4f86"
      },
      "source": [
        "len(cast[cast['name'] == 'Sidney Poitier'].name)"
      ],
      "execution_count": null,
      "outputs": [
        {
          "output_type": "execute_result",
          "data": {
            "text/plain": [
              "43"
            ]
          },
          "metadata": {
            "tags": []
          },
          "execution_count": 26
        }
      ]
    },
    {
      "cell_type": "markdown",
      "metadata": {
        "id": "_Ux2l5GHjlSE",
        "colab_type": "text"
      },
      "source": [
        "Sidney Poiter played 43 roles throughout his career"
      ]
    },
    {
      "cell_type": "markdown",
      "metadata": {
        "collapsed": true,
        "id": "9o5OkPfAAQY9",
        "colab_type": "text"
      },
      "source": [
        "### How many roles has Judi Dench played?"
      ]
    },
    {
      "cell_type": "code",
      "metadata": {
        "id": "bplBJeh7AQY-",
        "colab_type": "code",
        "colab": {
          "base_uri": "https://localhost:8080/",
          "height": 34
        },
        "outputId": "8ca9431c-05b6-4e05-b07a-f94af9181b69"
      },
      "source": [
        "len(cast[cast['name'] == 'Judi Dench'].name)"
      ],
      "execution_count": null,
      "outputs": [
        {
          "output_type": "execute_result",
          "data": {
            "text/plain": [
              "55"
            ]
          },
          "metadata": {
            "tags": []
          },
          "execution_count": 27
        }
      ]
    },
    {
      "cell_type": "markdown",
      "metadata": {
        "id": "F6OZTb-Nj4IU",
        "colab_type": "text"
      },
      "source": [
        "Judi Dench has played 55 roles "
      ]
    },
    {
      "cell_type": "markdown",
      "metadata": {
        "collapsed": true,
        "id": "PYipB6bhAQZO",
        "colab_type": "text"
      },
      "source": [
        "### List the supporting roles (having n=2) played by Cary Grant in the 1940s, in order by year."
      ]
    },
    {
      "cell_type": "code",
      "metadata": {
        "id": "Q43D40zJAQZQ",
        "colab_type": "code",
        "colab": {
          "base_uri": "https://localhost:8080/",
          "height": 69
        },
        "outputId": "812562eb-4e68-4691-e55d-ac4e952ce9f6"
      },
      "source": [
        "cary = cast[(cast.name == 'Cary Grant') & (cast.year >= 1940)].sort_values('year', ascending = True)\n",
        "cary = cary[cary['n'].notnull()]\n",
        "#cary = cary[cary.n == 2].sort_values('year', ascending = True)\n",
        "cary[(cary['n'] == 2) & (cary['year'] <= 1950)]['character']"
      ],
      "execution_count": null,
      "outputs": [
        {
          "output_type": "execute_result",
          "data": {
            "text/plain": [
              "871423     Nick Arden\n",
              "871433    Roger Adams\n",
              "Name: character, dtype: object"
            ]
          },
          "metadata": {
            "tags": []
          },
          "execution_count": 55
        }
      ]
    },
    {
      "cell_type": "markdown",
      "metadata": {
        "id": "6kEFlpjos_mh",
        "colab_type": "text"
      },
      "source": [
        "There are only 2 supporting roles perfromed by Cary Grant in the 1940s"
      ]
    },
    {
      "cell_type": "markdown",
      "metadata": {
        "collapsed": true,
        "id": "Yu4Aj6s-AQZd",
        "colab_type": "text"
      },
      "source": [
        "### List the leading roles that Cary Grant played in the 1940s in order by year."
      ]
    },
    {
      "cell_type": "code",
      "metadata": {
        "id": "0n_s17_hAQZe",
        "colab_type": "code",
        "colab": {
          "base_uri": "https://localhost:8080/",
          "height": 633
        },
        "outputId": "245adddf-f6d2-4949-a9e3-1aa2b50443ce"
      },
      "source": [
        "lead = cast[(cast.name == 'Cary Grant') & (cast.year >= 1940)].sort_values('year', ascending = True)\n",
        "lead = lead[lead['n'].notnull()]\n",
        "lead[(lead['n'] == 1) & (lead['year'] <= 1950)]"
      ],
      "execution_count": null,
      "outputs": [
        {
          "output_type": "execute_result",
          "data": {
            "text/html": [
              "<div>\n",
              "<style scoped>\n",
              "    .dataframe tbody tr th:only-of-type {\n",
              "        vertical-align: middle;\n",
              "    }\n",
              "\n",
              "    .dataframe tbody tr th {\n",
              "        vertical-align: top;\n",
              "    }\n",
              "\n",
              "    .dataframe thead th {\n",
              "        text-align: right;\n",
              "    }\n",
              "</style>\n",
              "<table border=\"1\" class=\"dataframe\">\n",
              "  <thead>\n",
              "    <tr style=\"text-align: right;\">\n",
              "      <th></th>\n",
              "      <th>title</th>\n",
              "      <th>year</th>\n",
              "      <th>name</th>\n",
              "      <th>type</th>\n",
              "      <th>character</th>\n",
              "      <th>n</th>\n",
              "    </tr>\n",
              "  </thead>\n",
              "  <tbody>\n",
              "    <tr>\n",
              "      <th>871407</th>\n",
              "      <td>His Girl Friday</td>\n",
              "      <td>1940</td>\n",
              "      <td>Cary Grant</td>\n",
              "      <td>actor</td>\n",
              "      <td>Walter Burns</td>\n",
              "      <td>1.0</td>\n",
              "    </tr>\n",
              "    <tr>\n",
              "      <th>871450</th>\n",
              "      <td>The Philadelphia Story</td>\n",
              "      <td>1940</td>\n",
              "      <td>Cary Grant</td>\n",
              "      <td>actor</td>\n",
              "      <td>C. K. Dexter Haven</td>\n",
              "      <td>1.0</td>\n",
              "    </tr>\n",
              "    <tr>\n",
              "      <th>871448</th>\n",
              "      <td>The Howards of Virginia</td>\n",
              "      <td>1940</td>\n",
              "      <td>Cary Grant</td>\n",
              "      <td>actor</td>\n",
              "      <td>Matt Howard</td>\n",
              "      <td>1.0</td>\n",
              "    </tr>\n",
              "    <tr>\n",
              "      <th>871438</th>\n",
              "      <td>Suspicion</td>\n",
              "      <td>1941</td>\n",
              "      <td>Cary Grant</td>\n",
              "      <td>actor</td>\n",
              "      <td>Johnnie Aysgarth</td>\n",
              "      <td>1.0</td>\n",
              "    </tr>\n",
              "    <tr>\n",
              "      <th>871429</th>\n",
              "      <td>Once Upon a Honeymoon</td>\n",
              "      <td>1942</td>\n",
              "      <td>Cary Grant</td>\n",
              "      <td>actor</td>\n",
              "      <td>Patrick 'Pat' O'Toole</td>\n",
              "      <td>1.0</td>\n",
              "    </tr>\n",
              "    <tr>\n",
              "      <th>871452</th>\n",
              "      <td>The Talk of the Town</td>\n",
              "      <td>1942</td>\n",
              "      <td>Cary Grant</td>\n",
              "      <td>actor</td>\n",
              "      <td>Leopold Dilg</td>\n",
              "      <td>1.0</td>\n",
              "    </tr>\n",
              "    <tr>\n",
              "      <th>871422</th>\n",
              "      <td>Mr. Lucky</td>\n",
              "      <td>1943</td>\n",
              "      <td>Cary Grant</td>\n",
              "      <td>actor</td>\n",
              "      <td>Joe Adams -posing as Joe Bascopolous</td>\n",
              "      <td>1.0</td>\n",
              "    </tr>\n",
              "    <tr>\n",
              "      <th>871398</th>\n",
              "      <td>Destination Tokyo</td>\n",
              "      <td>1943</td>\n",
              "      <td>Cary Grant</td>\n",
              "      <td>actor</td>\n",
              "      <td>Capt. Cassidy</td>\n",
              "      <td>1.0</td>\n",
              "    </tr>\n",
              "    <tr>\n",
              "      <th>871390</th>\n",
              "      <td>Arsenic and Old Lace</td>\n",
              "      <td>1944</td>\n",
              "      <td>Cary Grant</td>\n",
              "      <td>actor</td>\n",
              "      <td>Mortimer Brewster</td>\n",
              "      <td>1.0</td>\n",
              "    </tr>\n",
              "    <tr>\n",
              "      <th>871430</th>\n",
              "      <td>Once Upon a Time</td>\n",
              "      <td>1944</td>\n",
              "      <td>Cary Grant</td>\n",
              "      <td>actor</td>\n",
              "      <td>Jerry Flynn</td>\n",
              "      <td>1.0</td>\n",
              "    </tr>\n",
              "    <tr>\n",
              "      <th>871425</th>\n",
              "      <td>None But the Lonely Heart</td>\n",
              "      <td>1944</td>\n",
              "      <td>Cary Grant</td>\n",
              "      <td>actor</td>\n",
              "      <td>Ernie Mott</td>\n",
              "      <td>1.0</td>\n",
              "    </tr>\n",
              "    <tr>\n",
              "      <th>871424</th>\n",
              "      <td>Night and Day</td>\n",
              "      <td>1946</td>\n",
              "      <td>Cary Grant</td>\n",
              "      <td>actor</td>\n",
              "      <td>Cole Porter</td>\n",
              "      <td>1.0</td>\n",
              "    </tr>\n",
              "    <tr>\n",
              "      <th>871427</th>\n",
              "      <td>Notorious</td>\n",
              "      <td>1946</td>\n",
              "      <td>Cary Grant</td>\n",
              "      <td>actor</td>\n",
              "      <td>Devlin</td>\n",
              "      <td>1.0</td>\n",
              "    </tr>\n",
              "    <tr>\n",
              "      <th>871444</th>\n",
              "      <td>The Bachelor and the Bobby-Soxer</td>\n",
              "      <td>1947</td>\n",
              "      <td>Cary Grant</td>\n",
              "      <td>actor</td>\n",
              "      <td>Dick Nugent</td>\n",
              "      <td>1.0</td>\n",
              "    </tr>\n",
              "    <tr>\n",
              "      <th>871445</th>\n",
              "      <td>The Bishop's Wife</td>\n",
              "      <td>1947</td>\n",
              "      <td>Cary Grant</td>\n",
              "      <td>actor</td>\n",
              "      <td>Dudley</td>\n",
              "      <td>1.0</td>\n",
              "    </tr>\n",
              "    <tr>\n",
              "      <th>871402</th>\n",
              "      <td>Every Girl Should Be Married</td>\n",
              "      <td>1948</td>\n",
              "      <td>Cary Grant</td>\n",
              "      <td>actor</td>\n",
              "      <td>Dr. Madison Brown</td>\n",
              "      <td>1.0</td>\n",
              "    </tr>\n",
              "    <tr>\n",
              "      <th>871421</th>\n",
              "      <td>Mr. Blandings Builds His Dream House</td>\n",
              "      <td>1948</td>\n",
              "      <td>Cary Grant</td>\n",
              "      <td>actor</td>\n",
              "      <td>Jim Blandings</td>\n",
              "      <td>1.0</td>\n",
              "    </tr>\n",
              "    <tr>\n",
              "      <th>871411</th>\n",
              "      <td>I Was a Male War Bride</td>\n",
              "      <td>1949</td>\n",
              "      <td>Cary Grant</td>\n",
              "      <td>actor</td>\n",
              "      <td>Captain Henri Rochard</td>\n",
              "      <td>1.0</td>\n",
              "    </tr>\n",
              "    <tr>\n",
              "      <th>871396</th>\n",
              "      <td>Crisis</td>\n",
              "      <td>1950</td>\n",
              "      <td>Cary Grant</td>\n",
              "      <td>actor</td>\n",
              "      <td>Dr. Eugene Norland Ferguson</td>\n",
              "      <td>1.0</td>\n",
              "    </tr>\n",
              "  </tbody>\n",
              "</table>\n",
              "</div>"
            ],
            "text/plain": [
              "                                       title  ...    n\n",
              "871407                       His Girl Friday  ...  1.0\n",
              "871450                The Philadelphia Story  ...  1.0\n",
              "871448               The Howards of Virginia  ...  1.0\n",
              "871438                             Suspicion  ...  1.0\n",
              "871429                 Once Upon a Honeymoon  ...  1.0\n",
              "871452                  The Talk of the Town  ...  1.0\n",
              "871422                             Mr. Lucky  ...  1.0\n",
              "871398                     Destination Tokyo  ...  1.0\n",
              "871390                  Arsenic and Old Lace  ...  1.0\n",
              "871430                      Once Upon a Time  ...  1.0\n",
              "871425             None But the Lonely Heart  ...  1.0\n",
              "871424                         Night and Day  ...  1.0\n",
              "871427                             Notorious  ...  1.0\n",
              "871444      The Bachelor and the Bobby-Soxer  ...  1.0\n",
              "871445                     The Bishop's Wife  ...  1.0\n",
              "871402          Every Girl Should Be Married  ...  1.0\n",
              "871421  Mr. Blandings Builds His Dream House  ...  1.0\n",
              "871411                I Was a Male War Bride  ...  1.0\n",
              "871396                                Crisis  ...  1.0\n",
              "\n",
              "[19 rows x 6 columns]"
            ]
          },
          "metadata": {
            "tags": []
          },
          "execution_count": 58
        }
      ]
    },
    {
      "cell_type": "markdown",
      "metadata": {
        "id": "GDMPRHZ0A5kQ",
        "colab_type": "text"
      },
      "source": [
        "There are 19 leading roles played by Cary Grant in 1940s"
      ]
    },
    {
      "cell_type": "markdown",
      "metadata": {
        "collapsed": true,
        "id": "qoYOYop7AQZl",
        "colab_type": "text"
      },
      "source": [
        "### How many roles were available for actors in the 1950s?"
      ]
    },
    {
      "cell_type": "code",
      "metadata": {
        "id": "VKFrre4PAQZn",
        "colab_type": "code",
        "colab": {
          "base_uri": "https://localhost:8080/",
          "height": 34
        },
        "outputId": "4a264d0f-37fe-4c6e-c434-e36f49d7d89e"
      },
      "source": [
        "actor = cast[(cast.year >= 1950) & (cast.year <= 1960)]\n",
        "actor[actor['type'] == 'actor']['year'].count()"
      ],
      "execution_count": 99,
      "outputs": [
        {
          "output_type": "execute_result",
          "data": {
            "text/plain": [
              "171302"
            ]
          },
          "metadata": {
            "tags": []
          },
          "execution_count": 99
        }
      ]
    },
    {
      "cell_type": "markdown",
      "metadata": {
        "id": "AKLaxffqaHpQ",
        "colab_type": "text"
      },
      "source": [
        "There were 171302 roles available for actors in the 1950s"
      ]
    },
    {
      "cell_type": "markdown",
      "metadata": {
        "collapsed": true,
        "id": "8S3N3szUAQZ2",
        "colab_type": "text"
      },
      "source": [
        "### How many roles were available for actresses in the 1950s?"
      ]
    },
    {
      "cell_type": "code",
      "metadata": {
        "id": "P1CbYv5xAQZ2",
        "colab_type": "code",
        "colab": {
          "base_uri": "https://localhost:8080/",
          "height": 34
        },
        "outputId": "d828cc02-ea66-4522-f1de-9e6e6abe6baa"
      },
      "source": [
        "actress = cast[(cast.year >= 1950) & (cast.year <= 1960)]\n",
        "actress[actress['type'] == 'actress']['year'].count()"
      ],
      "execution_count": 97,
      "outputs": [
        {
          "output_type": "execute_result",
          "data": {
            "text/plain": [
              "63333"
            ]
          },
          "metadata": {
            "tags": []
          },
          "execution_count": 97
        }
      ]
    },
    {
      "cell_type": "markdown",
      "metadata": {
        "id": "tIOoMYs1dntJ",
        "colab_type": "text"
      },
      "source": [
        "There were 63333 roles available for actresses in the 1950s"
      ]
    },
    {
      "cell_type": "markdown",
      "metadata": {
        "collapsed": true,
        "id": "hAZXWNmeAQaB",
        "colab_type": "text"
      },
      "source": [
        "### How many leading roles (n=1) were available from the beginning of film history through 1980?"
      ]
    },
    {
      "cell_type": "code",
      "metadata": {
        "id": "V-XgCMh8AQaC",
        "colab_type": "code",
        "colab": {
          "base_uri": "https://localhost:8080/",
          "height": 34
        },
        "outputId": "60810a33-df2f-434c-a749-18a2d7ed838a"
      },
      "source": [
        "len(cast[(cast.n == 1) & (cast.year >= 1980)])"
      ],
      "execution_count": null,
      "outputs": [
        {
          "output_type": "execute_result",
          "data": {
            "text/plain": [
              "89276"
            ]
          },
          "metadata": {
            "tags": []
          },
          "execution_count": 82
        }
      ]
    },
    {
      "cell_type": "markdown",
      "metadata": {
        "id": "WyVVnwqOfvai",
        "colab_type": "text"
      },
      "source": [
        "There were as many as 89726 leading roles available from the beginning of film history through 1980"
      ]
    },
    {
      "cell_type": "markdown",
      "metadata": {
        "collapsed": true,
        "id": "LK3aESbOAQaJ",
        "colab_type": "text"
      },
      "source": [
        "### How many non-leading roles were available through from the beginning of film history through 1980?"
      ]
    },
    {
      "cell_type": "code",
      "metadata": {
        "id": "oy1W7VfEAQaK",
        "colab_type": "code",
        "colab": {
          "base_uri": "https://localhost:8080/",
          "height": 34
        },
        "outputId": "c2034a14-7366-4b02-8850-8e58e91f9bc6"
      },
      "source": [
        "#non_lead = cast[cast['n'].notnull()].sort_values('year')\n",
        "len(non_lead[(non_lead.n != 1) & (non_lead.year >= 1980)])"
      ],
      "execution_count": 96,
      "outputs": [
        {
          "output_type": "execute_result",
          "data": {
            "text/plain": [
              "1522873"
            ]
          },
          "metadata": {
            "tags": []
          },
          "execution_count": 96
        }
      ]
    },
    {
      "cell_type": "markdown",
      "metadata": {
        "id": "PwWKkQTvis1T",
        "colab_type": "text"
      },
      "source": [
        "The total number of non-leading roles that were available were 1522873 from the beginning of film history through 1980"
      ]
    },
    {
      "cell_type": "markdown",
      "metadata": {
        "collapsed": true,
        "id": "C6BamdrzAQaQ",
        "colab_type": "text"
      },
      "source": [
        "### How many roles through 1980 were minor enough that they did not warrant a numeric \"n\" rank?"
      ]
    },
    {
      "cell_type": "code",
      "metadata": {
        "id": "4RMxXi7IAQaQ",
        "colab_type": "code",
        "colab": {
          "base_uri": "https://localhost:8080/",
          "height": 34
        },
        "outputId": "b528b017-6a14-4d02-d058-1770e5140551"
      },
      "source": [
        "len(cast[(cast['n'].isnull()) & (cast['year'] >= 1980)])"
      ],
      "execution_count": 95,
      "outputs": [
        {
          "output_type": "execute_result",
          "data": {
            "text/plain": [
              "1014692"
            ]
          },
          "metadata": {
            "tags": []
          },
          "execution_count": 95
        }
      ]
    },
    {
      "cell_type": "markdown",
      "metadata": {
        "id": "-3W7iscrkKZr",
        "colab_type": "text"
      },
      "source": [
        "There were as many as 1014692 roles which did not warant a numeric 'n' rank through 1980"
      ]
    }
  ]
}