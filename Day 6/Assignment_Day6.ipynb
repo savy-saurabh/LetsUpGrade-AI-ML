{
  "nbformat": 4,
  "nbformat_minor": 0,
  "metadata": {
    "colab": {
      "name": "Assignment_Day6.ipynb",
      "provenance": [],
      "collapsed_sections": []
    },
    "kernelspec": {
      "name": "python3",
      "display_name": "Python 3"
    }
  },
  "cells": [
    {
      "cell_type": "markdown",
      "metadata": {
        "id": "puzIPhkPQBCY",
        "colab_type": "text"
      },
      "source": [
        "**1. Assuming that we have some email addresses in the \"username@companyname.com\" format, please write program to print the company name of a given email address. Both user names and company names are composed of letters only.**\n"
      ]
    },
    {
      "cell_type": "code",
      "metadata": {
        "id": "hzDtPHSbQVtx",
        "colab_type": "code",
        "colab": {
          "base_uri": "https://localhost:8080/",
          "height": 51
        },
        "outputId": "76158750-e105-4a48-d98f-5a427b2bcda1"
      },
      "source": [
        "#Taking mail as user input from the user\n",
        "company = input(\"Enter a professional mail:\")\n",
        "\n",
        "#Obtaining the index values of \"@\" and \".\"\n",
        "start_index = company.index(\"@\")\n",
        "end_index = company.index(\".\")\n",
        "\n",
        "#Slicing the mail according to acquired index\n",
        "print(\"The company's name is:\",company[start_index + 1 : end_index])"
      ],
      "execution_count": null,
      "outputs": [
        {
          "output_type": "stream",
          "text": [
            "Enter a professional mail:saurabhpola@bosch.co.in\n",
            "The company's name is: bosch\n"
          ],
          "name": "stdout"
        }
      ]
    },
    {
      "cell_type": "markdown",
      "metadata": {
        "id": "VOVRTHYhsoG_",
        "colab_type": "text"
      },
      "source": [
        "**2. Write a program that accepts a comma-separated sequence of words as input and prints the words in a comma separated sequence after sorting them alphabetically.**"
      ]
    },
    {
      "cell_type": "code",
      "metadata": {
        "id": "2ILYSg3zs4Qv",
        "colab_type": "code",
        "colab": {
          "base_uri": "https://localhost:8080/",
          "height": 86
        },
        "outputId": "57aea605-0d2c-4a92-b8b6-046fbbdc77f0"
      },
      "source": [
        "#Taking input from user\n",
        "sentence = input(\"Enter a sequence of comma separated words:\\n\")\n",
        "print(sentence)\n",
        "\n",
        "#Replacing all the commas with spaces for ease of sorting\n",
        "for char in sentence:\n",
        "  if char == \",\":\n",
        "    letter = sentence.replace(\",\",\" \")\n",
        "\n",
        "#Splitting all the words from the sentence using inbuilt function split\n",
        "word = letter.split()\n",
        "#Sorting the words thereafter\n",
        "word.sort()\n",
        "#Rejoining those words using inbuilt function join()\n",
        "words = \",\".join(word) \n",
        "print(words)"
      ],
      "execution_count": null,
      "outputs": [
        {
          "output_type": "stream",
          "text": [
            "Enter a sequence of comma separated words:\n",
            "Python,C,C++,TCP/IP,Linux,Embedded\n",
            "Python,C,C++,TCP/IP,Linux,Embedded\n",
            "C,C++,Embedded,Linux,Python,TCP/IP\n"
          ],
          "name": "stdout"
        }
      ]
    },
    {
      "cell_type": "markdown",
      "metadata": {
        "id": "Goe5Fb3DLYQF",
        "colab_type": "text"
      },
      "source": [
        "**3. Create your own Jupyter Notebook for Sets.**\n"
      ]
    },
    {
      "cell_type": "markdown",
      "metadata": {
        "id": "Y59IxfUbLfiL",
        "colab_type": "text"
      },
      "source": [
        " \n",
        "\n",
        "*  A set is a collection of unordered data type which are iterable, mutable and also they don't have any duplicate elements included.They resemble with lists and tuples.   \n",
        "*   The only differentiating thing between sets and rest of the sequential datatypes in Python is that they are represented with '{ }' braces.\n",
        "*   Using *hash table* we can verify whether an element is present in the set.\n",
        "*   We cannot access randomly any elements in the set likewise we used to do using indexing technique in lists, this is a major disadvantage of sets.\n",
        "\n",
        "\n",
        "\n"
      ]
    },
    {
      "cell_type": "code",
      "metadata": {
        "id": "gLKoq-Kd9V1Z",
        "colab_type": "code",
        "colab": {
          "base_uri": "https://localhost:8080/",
          "height": 346
        },
        "outputId": "429bfef8-c522-4ddc-d1dd-836a0dfa8966"
      },
      "source": [
        "# Sets in Python \n",
        "\n",
        "# Creating two sets \n",
        "s1 = set()\n",
        "s2 = set() \n",
        "\n",
        "# Adding elements to s1 set\n",
        "for i in range(1, 6): \n",
        "\ts1.add(i) \n",
        "\n",
        "# Adding elements to s2 set\n",
        "for i in range(3, 8): \n",
        "\ts2.add(i) \n",
        "\n",
        "print(\"S1 = \", s1) \n",
        "print(\"S2 = \", s2) \n",
        "print(\"\\n\") \n",
        "\n",
        "# Union of s1 and s2 sets \n",
        "s3 = s1 | s2 # s1.union(s2) \n",
        "print(\"Union of S1 & S2: S3 = \", s3) \n",
        "\n",
        "# Intersection of s1 and s2 sets\n",
        "s4 = s1 & s2 # s1.intersection(s2) \n",
        "print(\"Intersection of S1 & S2: S4 = \", s4) \n",
        "print(\"\\n\") \n",
        "\n",
        "# Checking relation between s3 and s4 sets \n",
        "if s3 > s4: # s3.issuperset(s4) \n",
        "\tprint(\"S3 is superset of S4\") \n",
        "elif s3 < s4: # s3.issubset(s4) \n",
        "\tprint(\"S3 is subset of S4\") \n",
        "else : # s3 == s4 \n",
        "\tprint(\"S3 is same as S4\") \n",
        "\n",
        "# displaying relation between s4 and s3 sets \n",
        "if s4 < s3: # s4.issubset(s3) \n",
        "\tprint(\"S4 is subset of S3\") \n",
        "\tprint(\"\\n\") \n",
        "\n",
        "# difference between s3 and s4 sets \n",
        "s5 = s3 - s4 \n",
        "print(\"Elements in S3 and not in S4: S5 = \", s5) \n",
        "print(\"\\n\") \n",
        "\n",
        "# checkv if s4 and s5 are disjoint sets \n",
        "if s4.isdisjoint(s5): \n",
        "\tprint(\"S4 and S5 have nothing in common\\n\") \n",
        "\n",
        "# Removing all the values of s5 \n",
        "s5.clear() \n",
        "\n",
        "print(\"After applying clear on sets S5: \") \n",
        "print(\"S5 = \", s5) \n"
      ],
      "execution_count": 6,
      "outputs": [
        {
          "output_type": "stream",
          "text": [
            "S1 =  {1, 2, 3, 4, 5}\n",
            "S2 =  {3, 4, 5, 6, 7}\n",
            "\n",
            "\n",
            "Union of S1 & S2: S3 =  {1, 2, 3, 4, 5, 6, 7}\n",
            "Intersection of S1 & S2: S4 =  {3, 4, 5}\n",
            "\n",
            "\n",
            "S3 is superset of S4\n",
            "S4 is subset of S3\n",
            "\n",
            "\n",
            "Elements in S3 and not in S4: S5 =  {1, 2, 6, 7}\n",
            "\n",
            "\n",
            "S4 and S5 have nothing in common\n",
            "\n",
            "After applying clear on sets S5: \n",
            "S5 =  set()\n"
          ],
          "name": "stdout"
        }
      ]
    },
    {
      "cell_type": "markdown",
      "metadata": {
        "id": "Ruye7wEmfqBN",
        "colab_type": "text"
      },
      "source": [
        "**4.Given a list of n-1 numbers ranging from 1 to n, your task is to find the missing number. There are no duplicates.**"
      ]
    },
    {
      "cell_type": "code",
      "metadata": {
        "id": "Uwoe-bgEgDGW",
        "colab_type": "code",
        "colab": {
          "base_uri": "https://localhost:8080/",
          "height": 155
        },
        "outputId": "f4e81bfc-4cb0-491c-c4d5-62037ca3b9a3"
      },
      "source": [
        "#Taking a list of n-1 numbers ranging from 1 to n\n",
        "#Take an empty list\n",
        "lst = []\n",
        "#Total no. of elements to be entered\n",
        "n = int(input(\"Enter no. of elements to be entered:\"))\n",
        "\n",
        "#Appending all the elements entered into the empty list\n",
        "for elements in range(0, n):\n",
        "  elements = int(input())\n",
        "  lst.append(elements)\n",
        "\n",
        "#Displaying the list of numbers\n",
        "print(\"Elements entered are:\", lst)\n",
        "\n",
        "#Assigning the first element for including in range\n",
        "first = lst[0]\n",
        "#Assigning the last element for including in range\n",
        "last = lst[-1]\n",
        "\n",
        "#Displaying the range\n",
        "print(range(first, last + 1))\n",
        "\n",
        "#Using set and difference functions to find the missing numbers\n",
        "print(\"The missing numbers are:\", sorted(set(range(first, last + 1)).difference(lst)))"
      ],
      "execution_count": null,
      "outputs": [
        {
          "output_type": "stream",
          "text": [
            "Enter no. of elements to be entered:4\n",
            "1\n",
            "3\n",
            "5\n",
            "9\n",
            "Elements entered are: [1, 3, 5, 9]\n",
            "range(1, 10)\n",
            "The missing numbers are: [2, 4, 6, 7, 8]\n"
          ],
          "name": "stdout"
        }
      ]
    },
    {
      "cell_type": "markdown",
      "metadata": {
        "id": "pfw52o8ejKkV",
        "colab_type": "text"
      },
      "source": [
        "**5. With a given list L, write a program to print this list L after removing all duplicate values with original order reserved.**\n"
      ]
    },
    {
      "cell_type": "code",
      "metadata": {
        "id": "PT3KlmTVjUyQ",
        "colab_type": "code",
        "colab": {
          "base_uri": "https://localhost:8080/",
          "height": 173
        },
        "outputId": "65a5fbd2-040d-4639-8aa6-7d74cb1d480b"
      },
      "source": [
        "#Taking an empty list to take input from user\n",
        "L = []\n",
        "n = int(input(\"Enter no. of elements to be entered:\\n\"))\n",
        "\n",
        "#Appending the empty list with elements entered from user\n",
        "for element in range(0, n):\n",
        "  element = int(input())\n",
        "  L.append(element)\n",
        "\n",
        "#Displaying the original list\n",
        "print(\"Original List:\",L)\n",
        "\n",
        "#Taking an empty list again\n",
        "E = []\n",
        "for element in L:\n",
        "  if element not in E:\n",
        "    E.append(element)\n",
        "\n",
        "#Displaying the list without disturbing the order and removing the duplicates\n",
        "print(\"After removing the duplicates:\",E)"
      ],
      "execution_count": null,
      "outputs": [
        {
          "output_type": "stream",
          "text": [
            "Enter no. of elements to be entered:\n",
            "5\n",
            "12\n",
            "24\n",
            "12\n",
            "36\n",
            "12\n",
            "Original List: [12, 24, 12, 36, 12]\n",
            "After removing the duplicates: [12, 24, 36]\n"
          ],
          "name": "stdout"
        }
      ]
    }
  ]
}