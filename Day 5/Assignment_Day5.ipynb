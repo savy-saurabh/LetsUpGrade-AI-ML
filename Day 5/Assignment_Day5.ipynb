{
  "nbformat": 4,
  "nbformat_minor": 0,
  "metadata": {
    "colab": {
      "name": "Assignment_Day5.ipynb",
      "provenance": [],
      "collapsed_sections": []
    },
    "kernelspec": {
      "name": "python3",
      "display_name": "Python 3"
    }
  },
  "cells": [
    {
      "cell_type": "markdown",
      "metadata": {
        "id": "_3hDmgU1UnRh",
        "colab_type": "text"
      },
      "source": [
        "**1. Write a Python program to find the first 20 non-even prime natural numbers.**"
      ]
    },
    {
      "cell_type": "code",
      "metadata": {
        "id": "XIiBQ1dyU8PO",
        "colab_type": "code",
        "colab": {
          "base_uri": "https://localhost:8080/",
          "height": 363
        },
        "outputId": "ce4c5bc6-c035-42bd-8a27-b790b8a9b106"
      },
      "source": [
        "#Prime numbers from 1 - 100\n",
        "#variable to store the total prime numbers\n",
        "total = 0 \n",
        "#Taking two loops:\n",
        "for prime in range(1, 100):\n",
        "  #Initializing the counter\n",
        "  c = 0 \n",
        "  for num in range(1, prime):\n",
        "    if (prime%num) == 0 and (prime%2) != 0:\n",
        "      c = c+1\n",
        "  if c == 1:\n",
        "    total = total + 1\n",
        "    print(\"Non-even prime no.\", total,\":\", prime)\n",
        "#When the total number of prime numbers reaches 20 break from the loop   \n",
        "  if total < 20:\n",
        "    continue\n",
        "  else:\n",
        "    break"
      ],
      "execution_count": 27,
      "outputs": [
        {
          "output_type": "stream",
          "text": [
            "Non-even prime no. 1 : 3\n",
            "Non-even prime no. 2 : 5\n",
            "Non-even prime no. 3 : 7\n",
            "Non-even prime no. 4 : 11\n",
            "Non-even prime no. 5 : 13\n",
            "Non-even prime no. 6 : 17\n",
            "Non-even prime no. 7 : 19\n",
            "Non-even prime no. 8 : 23\n",
            "Non-even prime no. 9 : 29\n",
            "Non-even prime no. 10 : 31\n",
            "Non-even prime no. 11 : 37\n",
            "Non-even prime no. 12 : 41\n",
            "Non-even prime no. 13 : 43\n",
            "Non-even prime no. 14 : 47\n",
            "Non-even prime no. 15 : 53\n",
            "Non-even prime no. 16 : 59\n",
            "Non-even prime no. 17 : 61\n",
            "Non-even prime no. 18 : 67\n",
            "Non-even prime no. 19 : 71\n",
            "Non-even prime no. 20 : 73\n"
          ],
          "name": "stdout"
        }
      ]
    },
    {
      "cell_type": "markdown",
      "metadata": {
        "id": "vjN3ECMK58Eo",
        "colab_type": "text"
      },
      "source": [
        "**2. Write a Python program to implement 15 functions of string.**\n"
      ]
    },
    {
      "cell_type": "code",
      "metadata": {
        "id": "Lzp5rjX45_tc",
        "colab_type": "code",
        "colab": {
          "base_uri": "https://localhost:8080/",
          "height": 277
        },
        "outputId": "4e994697-0581-43dc-f0d1-696f6f134bd0"
      },
      "source": [
        "#1. count() = returns no. of times a string appears \n",
        "food = \"My favourite food is biryani, I love home made biryani cooked by my mother\"\n",
        "print(\"No. of times the desired string appears: \",food.count(\"biryani\"))\n",
        "\n",
        "#2. find() = finds the first occurrence of the specified value\n",
        "#returns -1 if the value is not found\n",
        "word = \"Hello, my name is Saurabh\"\n",
        "print(\"Finding the position of the string entered:\",word.find(\"Saurabh\"))\n",
        "\n",
        "#3. isalpha() = returns bool value if all the characters are alphabet letters\n",
        "word = \"Hello, my name is Saurabh\"\n",
        "print(\"Returns True value if only alphabets are present:\",word.isalpha())\n",
        "\n",
        "#4. replace() = replaces a specified string with another specified string\n",
        "place = \"I love Bengaluru\"\n",
        "print(\"Replaces a phrase with another one:\", place.replace(\"Bengaluru\", \"Kolhapur\"))\n",
        "\n",
        "#5. swapcase() = returns a string where all the upper case letters \n",
        "#are lower case and vice versa\n",
        "place = \"I love Bengaluru\"\n",
        "print(\"Swapping of lower to upper case and vice versa:\", place.swapcase())\n",
        "\n",
        "#6. title() = returns a string where the first character in every \n",
        "#word is upper case\n",
        "course = \"python is my favourite language\"\n",
        "print(\"Converts the first letter to upper case:\", course.title())\n",
        "\n",
        "#7. strip() = trims any spaces at start and end of the string or \n",
        "#any characters\n",
        "course = \"    python is my favourite language    \"\n",
        "print(\"Removes any leading or trailing characters:\", course.strip())\n",
        "\n",
        "#8. join() = takes all items in iterable and joins them into one string\n",
        "friends = [\"Aryan\", \"Ram\", \"Yashovardhan\"]\n",
        "print(\"$\".join(friends))\n",
        "\n",
        "#9. lower() = converts all the letters in a string into lower case\n",
        "food = \"My Favourite Food Is Biryani\"\n",
        "print(\"Lower case letter:\", food.lower())\n",
        "\n",
        "#10. upper() = converts all the letter in a string into upper case\n",
        "word = \"Hello, my name is Saurabh\"\n",
        "print(\"Upper Case letters:\", word.upper())\n",
        "\n",
        "#11. format() = formats the specified values and insert them inside \n",
        "#the string's placeholder\n",
        "total = \"The cake is for Rs {price:.2f} only.\"\n",
        "print(total.format(price = 10))\n",
        "\n",
        "#12. startswith() = returns True if the string starts with the \n",
        "#specified value, otherwise False.\n",
        "word = \"Hello, my name is Saurabh\"\n",
        "print(word.startswith(\"Hello\"))\n",
        "\n",
        "#13. partition() = searches for a specified string, and splits \n",
        "# the string into a tuple containing three elements.\n",
        "place = \"I love Bengaluru\"\n",
        "print(\"Returns a tuple containing three elements:\" ,place.partition('Bengaluru'))\n",
        "\n",
        "#14. endswith() = returns True if the string ends with the \n",
        "# specified value, otherwise False\n",
        "word = \"Hello, my name is Saurabh\"\n",
        "print(word.endswith('Saurabh'))\n",
        "\n",
        "#15. encode() = encodes the string, using the specified encoding\n",
        "# UTF-8 will be used\n",
        "course = \"python is my favourite language\"\n",
        "print(course.encode(encoding=\"ascii\",errors=\"ignore\"))"
      ],
      "execution_count": 23,
      "outputs": [
        {
          "output_type": "stream",
          "text": [
            "No. of times the desired string appears:  2\n",
            "Finding the position of the string entered: 18\n",
            "Returns True value if only alphabets are present: False\n",
            "Replaces a phrase with another one: I love Kolhapur\n",
            "Swapping of lower to upper case and vice versa: i LOVE bENGALURU\n",
            "Converts the first letter to upper case: Python Is My Favourite Language\n",
            "Removes any leading or trailing characters: python is my favourite language\n",
            "Aryan$Ram$Yashovardhan\n",
            "Lower case letter: my favourite food is biryani\n",
            "Upper Case letters: HELLO, MY NAME IS SAURABH\n",
            "The cake is for Rs 10.00 only.\n",
            "True\n",
            "Returns a tuple containing three elements: ('I love ', 'Bengaluru', '')\n",
            "True\n",
            "b'python is my favourite language'\n"
          ],
          "name": "stdout"
        }
      ]
    },
    {
      "cell_type": "markdown",
      "metadata": {
        "id": "jyJX4CcR_5qd",
        "colab_type": "text"
      },
      "source": [
        "**3. Write a Python program to check if the given string is a Palindrome or Anagram or None of them display the message accordingly to the user.**"
      ]
    },
    {
      "cell_type": "code",
      "metadata": {
        "id": "GaAYMDqsADz6",
        "colab_type": "code",
        "colab": {
          "base_uri": "https://localhost:8080/",
          "height": 69
        },
        "outputId": "7800f447-99cc-456e-f5f8-a04da9a504a5"
      },
      "source": [
        "#Enter two strings from user\n",
        "string1 = input(\"Enter first string: \")\n",
        "string2 = input(\"Enter second string: \")\n",
        "\n",
        "#Comparing the length of the two strings\n",
        "if len(string1) == len(string2):\n",
        "    #Palindrome\n",
        "    if string1 == string2:\n",
        "        print(\"Strings\", string1, \"and\", string2, \"are Palindrome\")\n",
        "    #Anagram\n",
        "    elif sorted(string1) == sorted(string2):\n",
        "        print(\"Strings\", string1, \"and\", string2, \"are Anagram\")\n",
        "    #None of these\n",
        "    else:\n",
        "        print(\"Strings\", string1,\"and\", string2,\"are same in length but they are different\")\n",
        "else:\n",
        "    print(\"Strings\", string1, \"and\", string2, \"are different\")"
      ],
      "execution_count": 3,
      "outputs": [
        {
          "output_type": "stream",
          "text": [
            "Enter first string: stop\n",
            "Enter second string: pots\n",
            "Strings stop and pots are Anagram\n"
          ],
          "name": "stdout"
        }
      ]
    },
    {
      "cell_type": "markdown",
      "metadata": {
        "id": "aRySUme1IvZY",
        "colab_type": "text"
      },
      "source": [
        "**4. Write a Python's user defined function that removes all the additional characters from the string and converts it finally to lower case using built-in lower(). eg: If the string is \"Dr. Darshan Ingle @AI-ML Trainer\", then the output be\"drdarshaningleaimltrainer\".**"
      ]
    },
    {
      "cell_type": "code",
      "metadata": {
        "id": "j4E2yuydplOB",
        "colab_type": "code",
        "colab": {
          "base_uri": "https://localhost:8080/",
          "height": 69
        },
        "outputId": "776809f0-0ec2-47c2-9b3b-2003018d064c"
      },
      "source": [
        "#USER DEFINED Function\n",
        "def string2lower(string):\n",
        "#Taking an empty sequence of string\n",
        "  alpha = \"\"\n",
        "  for element in string:\n",
        "  #Checking in the string whether all the characters are alphabets using isalpha()\n",
        "      if element.isalpha():\n",
        "          alpha += element\n",
        "  #Printing all the characters in lowercase\n",
        "  print(alpha.lower())\n",
        "\n",
        "#Taking string from the user\n",
        "string = input(\"Enter a string: \\n\")\n",
        "#Calling the user defined function\n",
        "string2lower(string)"
      ],
      "execution_count": 25,
      "outputs": [
        {
          "output_type": "stream",
          "text": [
            "Enter a string: \n",
            "Dr. Darshan Ingle @AI-ML Trainer\n",
            "drdarshaningleaimltrainer\n"
          ],
          "name": "stdout"
        }
      ]
    }
  ]
}