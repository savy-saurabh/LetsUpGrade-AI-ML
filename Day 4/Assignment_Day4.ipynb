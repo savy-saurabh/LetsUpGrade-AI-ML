{
  "nbformat": 4,
  "nbformat_minor": 0,
  "metadata": {
    "colab": {
      "name": "Assignment_Day4.ipynb",
      "provenance": [],
      "collapsed_sections": []
    },
    "kernelspec": {
      "name": "python3",
      "display_name": "Python 3"
    }
  },
  "cells": [
    {
      "cell_type": "markdown",
      "metadata": {
        "id": "9xTX26exytbR",
        "colab_type": "text"
      },
      "source": [
        "**1. Research on whether addition, subtraction, multiplication, division, floor division and modulo operations be performed on complex numbers. Based on your study, implement a Python program to demonstrate these operations.**"
      ]
    },
    {
      "cell_type": "code",
      "metadata": {
        "id": "i2A8s-E0y-v1",
        "colab_type": "code",
        "colab": {
          "base_uri": "https://localhost:8080/",
          "height": 160
        },
        "outputId": "b102dc2e-e553-45a2-e97a-0828df2f5be7"
      },
      "source": [
        "#Take any two complex numbers c1 and c2\n",
        "c1 = 4 + 3j\n",
        "c2 = 5 + 4j\n",
        "\n",
        "#Addition\n",
        "c3 = c1 + c2\n",
        "print(c3, end=\"\\n\\n\")\n",
        "\n",
        "#Subtraction\n",
        "c3 = c1 - c2\n",
        "print(c3, end=\"\\n\\n\")\n",
        "\n",
        "#Multiplication\n",
        "c3 = c1 * c2\n",
        "print(c3, end=\"\\n\\n\")\n",
        "\n",
        "#Division\n",
        "c3 = c1 / c2\n",
        "print(c3, end=\"\\n\\n\")\n",
        "\n",
        "#Floor division \n",
        "#c3 = c1 // c2\n",
        "#print(c3, end=\"\\n\\n\")\n",
        "\n",
        "#modulo division\n",
        "#c3 = c1%c2\n",
        "#print(c3, end=\"\\n\\n\")"
      ],
      "execution_count": 16,
      "outputs": [
        {
          "output_type": "stream",
          "text": [
            "(9+7j)\n",
            "\n",
            "(-1-1j)\n",
            "\n",
            "(8+31j)\n",
            "\n",
            "(0.7804878048780489-0.02439024390243905j)\n",
            "\n"
          ],
          "name": "stdout"
        }
      ]
    },
    {
      "cell_type": "markdown",
      "metadata": {
        "id": "jQTc47g0Sm8X",
        "colab_type": "text"
      },
      "source": [
        "Here floor division and modulo operations are included in **mpmath** packages. Hence it is not possible to perform these operations on complex numbers directly, unless and until you import these packages."
      ]
    },
    {
      "cell_type": "markdown",
      "metadata": {
        "id": "K7x7Tw5_Uapa",
        "colab_type": "text"
      },
      "source": [
        "**2. Research on range() functions and its parameters. Create a markdown cell and write in your own words (no copy-paste from google please) what you understand about it. Implement a small program of your choice on the same.**"
      ]
    },
    {
      "cell_type": "markdown",
      "metadata": {
        "id": "zRiAQAiQWDBf",
        "colab_type": "text"
      },
      "source": [
        "1.   The range() function is an inbuilt function in Python used for generating sequence of certain numbers in a particular range.\n",
        "2.   Moreover it is used for iterating in loops or to repeat an action certain number of times.\n",
        "3.   **Syntax:** range(start, stop, step) \n",
        "4.   The parameters of range() function are *start, stop and step*\n",
        "    *   Start: It defines the starting point of any sequence or list. It is an *optional* parameter if you are defining a range from 0. *The default starts from 0*.\n",
        "    *   Stop: It defines the end point of any sequence or list. It doesn't includes any default value as it is a *required* parameter in defining a range.\n",
        "    *   Step: It is used for defining the step size of any sequence, as it returns *every nth step element* defined by the user in the range() function. The step can either be a positive step or a negative step depending on the user input. It is also an *optional* parameter, by *default the step starts from 1*.\n",
        "\n",
        "\n",
        "\n",
        "\n",
        "\n",
        "\n",
        "\n"
      ]
    },
    {
      "cell_type": "code",
      "metadata": {
        "id": "q1qzMaalUt5H",
        "colab_type": "code",
        "colab": {
          "base_uri": "https://localhost:8080/",
          "height": 249
        },
        "outputId": "8b48ba11-7bc7-4df3-f63f-fe226a597a67"
      },
      "source": [
        "#Examples:\n",
        "#printing a sequence of number\n",
        "print(range(5))\n",
        "print(list(range(5)))\n",
        "print(\"\\n\")\n",
        "\n",
        "#Defining the start of the range()\n",
        "print(range(1, 10))\n",
        "print(list(range(1,10)))\n",
        "print(\"\\n\")\n",
        "\n",
        "#Defining the step size in the range()\n",
        "print(range(1, 10, 2))\n",
        "print(list(range(1, 10, 2)))\n",
        "print(\"\\n\")\n",
        "\n",
        "#Using the range function to iterate a sequence using loop\n",
        "for number in range(1, 10, 2):\n",
        "  print(number, end=\" \")"
      ],
      "execution_count": 14,
      "outputs": [
        {
          "output_type": "stream",
          "text": [
            "range(0, 5)\n",
            "[0, 1, 2, 3, 4]\n",
            "\n",
            "\n",
            "range(1, 10)\n",
            "[1, 2, 3, 4, 5, 6, 7, 8, 9]\n",
            "\n",
            "\n",
            "range(1, 10, 2)\n",
            "[1, 3, 5, 7, 9]\n",
            "\n",
            "\n",
            "1 3 5 7 9 "
          ],
          "name": "stdout"
        }
      ]
    },
    {
      "cell_type": "markdown",
      "metadata": {
        "id": "nSlU4mL7l1OR",
        "colab_type": "text"
      },
      "source": [
        "**3. Consider two numbers. Perform their subtraction and if the result of subtraction is greater than 25, print their multiplication result else print their division result.**\n"
      ]
    },
    {
      "cell_type": "code",
      "metadata": {
        "id": "xzDWB7Jdl7mr",
        "colab_type": "code",
        "colab": {
          "base_uri": "https://localhost:8080/",
          "height": 53
        },
        "outputId": "e231399f-1183-4557-b11c-0f4ac614acae"
      },
      "source": [
        "#Consider two numbers\n",
        "n1 = 40\n",
        "n2 = 60\n",
        "print(\"Result of subtraction:\",n2 - n1) # Displaying the result\n",
        "if n2 - n1 > 25:\n",
        "  print(\"Multiplication of the two numbers:\", n2, \"*\", n1, \"=\", n2*n1)\n",
        "else:\n",
        "  print(\"Division of the two numbers:\", n2, \"/\", n1, \"=\", n2/n1)"
      ],
      "execution_count": 27,
      "outputs": [
        {
          "output_type": "stream",
          "text": [
            "Result of subtraction: 20\n",
            "Division of the two numbers: 60 / 40 = 1.5\n"
          ],
          "name": "stdout"
        }
      ]
    },
    {
      "cell_type": "markdown",
      "metadata": {
        "id": "I4X81Q7HpRQf",
        "colab_type": "text"
      },
      "source": [
        "**4. Consider a list of 10 elements of integer values. If the number in the list is divisible by 2, print the result as \"square of that number minus 2\"**"
      ]
    },
    {
      "cell_type": "code",
      "metadata": {
        "id": "wQcbgBRfpXuU",
        "colab_type": "code",
        "colab": {
          "base_uri": "https://localhost:8080/",
          "height": 106
        },
        "outputId": "e4f85ddd-ce13-4ec0-b3ca-391aef53da38"
      },
      "source": [
        "#Considering a list of 10 elements of integer values\n",
        "num = [1, 12, 21, 23, 45, 26, 52, 58, 63, 70]\n",
        "\n",
        "for integer in num:\n",
        "  if integer%2 == 0:\n",
        "    print(\"Result:\", (integer**2) -2) #Square of that number minus 2"
      ],
      "execution_count": 39,
      "outputs": [
        {
          "output_type": "stream",
          "text": [
            "Result: 142\n",
            "Result: 674\n",
            "Result: 2702\n",
            "Result: 3362\n",
            "Result: 4898\n"
          ],
          "name": "stdout"
        }
      ]
    },
    {
      "cell_type": "markdown",
      "metadata": {
        "id": "iadP-MxgsX3k",
        "colab_type": "text"
      },
      "source": [
        "**5. Consider a list of 10 elements. Print all the elements in the list which are greater than 7 when that number is divided 2.**"
      ]
    },
    {
      "cell_type": "code",
      "metadata": {
        "id": "6DeesD-isfeo",
        "colab_type": "code",
        "colab": {
          "base_uri": "https://localhost:8080/",
          "height": 35
        },
        "outputId": "425efce1-c679-44ac-dd57-520da399e4bb"
      },
      "source": [
        "#Considering a list of 10 elements of integer values\n",
        "num = [1, 2, 3, 4, 10, 15, 6, 21, 40, 7]\n",
        "\n",
        "for element in num:\n",
        "  if element/2 > 7: #After dividing the number by 2\n",
        "    print(element, end=\" \") #Printing the numbers which are greater than 7"
      ],
      "execution_count": 40,
      "outputs": [
        {
          "output_type": "stream",
          "text": [
            "15 21 40 "
          ],
          "name": "stdout"
        }
      ]
    }
  ]
}